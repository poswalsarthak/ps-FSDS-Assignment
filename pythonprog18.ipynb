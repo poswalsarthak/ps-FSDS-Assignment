{
 "cells": [
  {
   "cell_type": "markdown",
   "id": "a063a770",
   "metadata": {},
   "source": [
    "Question 1\n",
    "Create a function that takes a list of non-negative integers and strings and return a new list without the strings.\n"
   ]
  },
  {
   "cell_type": "code",
   "execution_count": 1,
   "id": "71af5acb",
   "metadata": {},
   "outputs": [
    {
     "name": "stdout",
     "output_type": "stream",
     "text": [
      "[1, 2]\n"
     ]
    }
   ],
   "source": [
    "def filter_list(l):\n",
    "    new_list=[]\n",
    "    for i in l:\n",
    "        if type(i)==int:\n",
    "            new_list.append(i)\n",
    "    return new_list\n",
    "\n",
    "result=filter_list([1, 2, \"a\", \"b\"])\n",
    "print(result)"
   ]
  },
  {
   "cell_type": "code",
   "execution_count": null,
   "id": "0305081d",
   "metadata": {},
   "outputs": [],
   "source": []
  },
  {
   "cell_type": "markdown",
   "id": "139ec083",
   "metadata": {},
   "source": [
    "Question 2\n",
    "The \"Reverser\" takes a string as input and returns that string in reverse order, with the opposite case.\n"
   ]
  },
  {
   "cell_type": "code",
   "execution_count": 4,
   "id": "1d543b12",
   "metadata": {},
   "outputs": [
    {
     "name": "stdout",
     "output_type": "stream",
     "text": [
      "DLROw OLLEh\n"
     ]
    }
   ],
   "source": [
    "def reverse(s):\n",
    "    new_string=''\n",
    "    for i in s:\n",
    "        if i.isupper():\n",
    "            new_string+=i.lower()\n",
    "        else:\n",
    "            new_string+=i.upper()\n",
    "    return new_string[::-1]\n",
    "            \n",
    "result=reverse(\"Hello World\")\n",
    "print(result)"
   ]
  },
  {
   "cell_type": "code",
   "execution_count": null,
   "id": "9b6ddd11",
   "metadata": {},
   "outputs": [],
   "source": []
  },
  {
   "cell_type": "markdown",
   "id": "321289b5",
   "metadata": {},
   "source": [
    "Question 3\n",
    "With Python 3, you can assign variables from lists in a much more succinct way. Create variables first, middle and last from the given list using destructuring assignment (check the Resources tab for some examples), where:\n",
    "first  ➞ 1\n",
    "\n",
    "middle ➞ [2, 3, 4, 5]\n",
    "\n",
    "last ➞ 6\n",
    "Your task is to unpack the list writeyourcodehere into three variables, being first, middle, and last, with middle being everything in between the first and last element. Then print all three variables\n"
   ]
  },
  {
   "cell_type": "code",
   "execution_count": 8,
   "id": "3976bd82",
   "metadata": {},
   "outputs": [
    {
     "name": "stdout",
     "output_type": "stream",
     "text": [
      "1\n",
      "[2, 3, 4, 5]\n",
      "6\n"
     ]
    }
   ],
   "source": [
    "first,*middle,last=[1,2,3,4,5,6]\n",
    "print(first)\n",
    "print(middle)\n",
    "print(last)"
   ]
  },
  {
   "cell_type": "code",
   "execution_count": null,
   "id": "56abd6ca",
   "metadata": {},
   "outputs": [],
   "source": []
  },
  {
   "cell_type": "markdown",
   "id": "32ea8721",
   "metadata": {},
   "source": [
    "Question 4\n",
    "Write a function that calculates the factorial of a number recursively.\n"
   ]
  },
  {
   "cell_type": "code",
   "execution_count": 9,
   "id": "90715eb7",
   "metadata": {},
   "outputs": [
    {
     "name": "stdout",
     "output_type": "stream",
     "text": [
      "Enter a no : 5\n",
      "120\n"
     ]
    }
   ],
   "source": [
    "def fact(n):\n",
    "    if n==1:return 1\n",
    "    else: return n*fact(n-1)\n",
    "n=int(input(\"Enter a no : \"))\n",
    "result=fact(n)\n",
    "print(result)"
   ]
  },
  {
   "cell_type": "code",
   "execution_count": null,
   "id": "be98fd30",
   "metadata": {},
   "outputs": [],
   "source": []
  },
  {
   "cell_type": "markdown",
   "id": "800bcfcf",
   "metadata": {},
   "source": [
    "Question 5\n",
    "Write a function that moves all elements of one type to the end of the list.\n"
   ]
  },
  {
   "cell_type": "code",
   "execution_count": 11,
   "id": "8ac80452",
   "metadata": {},
   "outputs": [
    {
     "name": "stdout",
     "output_type": "stream",
     "text": [
      "[3, 2, 4, 4, 1, 1]\n"
     ]
    }
   ],
   "source": [
    "def move_to_end(list,n):\n",
    "    for i in list:\n",
    "        if i==n:\n",
    "            list.remove(i)\n",
    "            list.append(i)\n",
    "    return list\n",
    "\n",
    "result=move_to_end([1, 3, 2, 4, 4, 1], 1)         \n",
    "print(result)\n",
    "    "
   ]
  },
  {
   "cell_type": "code",
   "execution_count": null,
   "id": "419fe006",
   "metadata": {},
   "outputs": [],
   "source": []
  }
 ],
 "metadata": {
  "kernelspec": {
   "display_name": "Python 3 (ipykernel)",
   "language": "python",
   "name": "python3"
  },
  "language_info": {
   "codemirror_mode": {
    "name": "ipython",
    "version": 3
   },
   "file_extension": ".py",
   "mimetype": "text/x-python",
   "name": "python",
   "nbconvert_exporter": "python",
   "pygments_lexer": "ipython3",
   "version": "3.9.12"
  }
 },
 "nbformat": 4,
 "nbformat_minor": 5
}
