{
 "cells": [
  {
   "cell_type": "code",
   "execution_count": 1,
   "id": "14633e00",
   "metadata": {},
   "outputs": [
    {
     "name": "stdout",
     "output_type": "stream",
     "text": [
      "<class 'dict'>\n"
     ]
    }
   ],
   "source": [
    "# 1. What does an empty dictionary's code look like? \n",
    "dic={}\n",
    "print(type(dic))"
   ]
  },
  {
   "cell_type": "code",
   "execution_count": null,
   "id": "4c09746c",
   "metadata": {},
   "outputs": [],
   "source": [
    "# 2. What is the value of a dictionary value with the key 'foo' and the value 42?\n",
    "\n",
    "42"
   ]
  },
  {
   "cell_type": "code",
   "execution_count": null,
   "id": "af8204a3",
   "metadata": {},
   "outputs": [],
   "source": [
    "# 3. What is the most significant distinction between a dictionary and a list?\n",
    "\n",
    "The items stored in a dictionary are unordered, while the items in a list are ordered.\n"
   ]
  },
  {
   "cell_type": "code",
   "execution_count": null,
   "id": "190bfdde",
   "metadata": {},
   "outputs": [],
   "source": [
    "# 4. What happens if you try to access spam['foo'] if spam is {'bar': 100}?\n",
    "\n",
    "there would be keyError\n"
   ]
  },
  {
   "cell_type": "code",
   "execution_count": null,
   "id": "4b348237",
   "metadata": {},
   "outputs": [],
   "source": [
    "5. If a dictionary is stored in spam, what is the difference between the expressions 'cat' in spam and 'cat' in spam.keys()?\n",
    "\n",
    "There is no difference. The in operator checks whether a value exists as a key in the dictionary."
   ]
  },
  {
   "cell_type": "code",
   "execution_count": null,
   "id": "ea4993f7",
   "metadata": {},
   "outputs": [],
   "source": [
    "6. If a dictionary is stored in spam, what is the difference between the expressions 'cat' in spam and 'cat' in spam.values()?\n",
    "\n",
    "'cat' in spam checks whether there is a 'cat' key in the dictionary, while 'cat' in spam.values() checks whether there is a value 'cat' for one of the keys in spam.\n"
   ]
  },
  {
   "cell_type": "code",
   "execution_count": null,
   "id": "a395b33a",
   "metadata": {},
   "outputs": [],
   "source": [
    "7. What is a shortcut for the following code?\n",
    "if 'color' not in spam:\n",
    "spam['color'] = 'black'\n",
    "\n",
    "\n",
    "spam.setdefault('color', 'black')"
   ]
  },
  {
   "cell_type": "code",
   "execution_count": null,
   "id": "9da291f8",
   "metadata": {},
   "outputs": [],
   "source": [
    "8. How do you \"pretty print\" dictionary values using which module and function?\n",
    "\n",
    "pprint()\n"
   ]
  }
 ],
 "metadata": {
  "kernelspec": {
   "display_name": "Python 3 (ipykernel)",
   "language": "python",
   "name": "python3"
  },
  "language_info": {
   "codemirror_mode": {
    "name": "ipython",
    "version": 3
   },
   "file_extension": ".py",
   "mimetype": "text/x-python",
   "name": "python",
   "nbconvert_exporter": "python",
   "pygments_lexer": "ipython3",
   "version": "3.9.7"
  }
 },
 "nbformat": 4,
 "nbformat_minor": 5
}
