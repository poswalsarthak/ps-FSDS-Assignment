{
 "cells": [
  {
   "cell_type": "markdown",
   "id": "f5d6c3b4",
   "metadata": {},
   "source": [
    "1. Create a function that transposes a 2D matrix.\n",
    "\n",
    "Examples\n",
    "\n",
    "transpose_matrix([\n",
    "  [1, 1, 1],\n",
    "  [2, 2, 2],\n",
    "  [3, 3, 3]\n",
    "]) ➞ [\n",
    "  [1, 2, 3],\n",
    "  [1, 2, 3],\n",
    "  [1, 2, 3]\n",
    "]\n",
    "\n",
    "transpose_matrix([\n",
    "  [5, 5],\n",
    "  [6, 7],\n",
    "  [9, 1]\n",
    "]) ➞ [\n",
    "  [5, 6, 9],\n",
    "  [5, 7, 1]\n",
    "]\n",
    "\n"
   ]
  },
  {
   "cell_type": "code",
   "execution_count": 10,
   "id": "cd7dd6e7",
   "metadata": {},
   "outputs": [
    {
     "name": "stdout",
     "output_type": "stream",
     "text": [
      "[1, 2, 3]\n",
      "[1, 2, 3]\n",
      "[1, 2, 3]\n"
     ]
    }
   ],
   "source": [
    "def transpose_matrix(lst):\n",
    "    res=[[lst[i][j] for i in range(len(lst[0]))] for j in range(len(lst))]\n",
    "    return res\n",
    "    \n",
    "res=transpose_matrix([ [1, 1, 1], [2, 2, 2], [3, 3, 3] ])\n",
    "for i in res:\n",
    "    print(i)"
   ]
  },
  {
   "cell_type": "code",
   "execution_count": null,
   "id": "74c41d10",
   "metadata": {},
   "outputs": [],
   "source": []
  },
  {
   "cell_type": "markdown",
   "id": "8e098c0a",
   "metadata": {},
   "source": [
    "2.   Create a function that determines whether a string is a valid hex code.\n",
    "\n",
    "A hex code must begin with a pound key # and is exactly 6 characters in length. Each character must be a digit from 0-9 or an alphabetic character from A-F. All alphabetic characters may be uppercase or lowercase.\n",
    "\n",
    "Examples\n",
    "\n",
    "is_valid_hex_code(\"#CD5C5C\") ➞ True\n",
    "\n",
    "is_valid_hex_code(\"#EAECEE\") ➞ True\n",
    "\n",
    "is_valid_hex_code(\"#eaecee\") ➞ True\n",
    "\n",
    "is_valid_hex_code(\"#CD5C58C\") ➞ False\n",
    " Length exceeds 6\n",
    "\n",
    "is_valid_hex_code(\"#CD5C5Z\") ➞ False\n",
    " Not all alphabetic characters in A-F\n",
    "\n",
    "is_valid_hex_code(\"#CD5C&C\") ➞ False\n",
    " Contains unacceptable character\n",
    "\n",
    "is_valid_hex_code(\"CD5C5C\") ➞ False\n",
    " Missing #\n"
   ]
  },
  {
   "cell_type": "code",
   "execution_count": 19,
   "id": "966450f3",
   "metadata": {},
   "outputs": [
    {
     "name": "stdout",
     "output_type": "stream",
     "text": [
      "True\n",
      "True\n",
      "True\n",
      "False\n",
      "False\n",
      "False\n",
      "False\n"
     ]
    }
   ],
   "source": [
    "import re\n",
    "def is_valid_hex_code(s):\n",
    "    return True if re.findall('^#[0-9a-fA-F]{6}$',s) else False\n",
    "\n",
    "res=is_valid_hex_code(\"#CD5C5C\")\n",
    "print(res)\n",
    "res=is_valid_hex_code(\"#EAECEE\")\n",
    "print(res)\n",
    "res=is_valid_hex_code(\"#eaecee\")\n",
    "print(res)\n",
    "res=is_valid_hex_code(\"#CD5C58C\")\n",
    "print(res)\n",
    "res=is_valid_hex_code(\"#CD5C5Z\")\n",
    "print(res)\n",
    "res=is_valid_hex_code(\"#CD5C&C\")\n",
    "print(res)\n",
    "res=is_valid_hex_code(\"CD5C5C\")\n",
    "print(res)"
   ]
  },
  {
   "cell_type": "code",
   "execution_count": null,
   "id": "a8e31637",
   "metadata": {},
   "outputs": [],
   "source": [
    "\n"
   ]
  },
  {
   "cell_type": "markdown",
   "id": "59ecdc4b",
   "metadata": {},
   "source": [
    "3. Given a list of math equations (given as strings), return the percentage of correct answers as a string. Round to the nearest whole number.\n",
    "\n",
    "Examples\n",
    "\n",
    "mark_maths([\"2+2=4\", \"3+2=5\", \"10-3=3\", \"5+5=10\"]) ➞ \"75%\"\n",
    "\n",
    "mark_maths([\"1-2=-2\"]), \"0%\"\n",
    "\n",
    "mark_maths([\"2+3=5\", \"4+4=9\", \"3-1=2\"]) ➞ \"67%\"\n"
   ]
  },
  {
   "cell_type": "code",
   "execution_count": 32,
   "id": "e3898539",
   "metadata": {},
   "outputs": [
    {
     "name": "stdout",
     "output_type": "stream",
     "text": [
      "75%\n",
      "0%\n",
      "67%\n"
     ]
    }
   ],
   "source": [
    "import math\n",
    "def mark_maths(lst):\n",
    "    t=[]\n",
    "    count=0\n",
    "    for i in lst:\n",
    "        i=i.split(\"=\")\n",
    "        if eval(i[0])==int(i[1]) : count+=1\n",
    "    return str(math.ceil((count/len(lst))*100))+\"%\"\n",
    "\n",
    "res=mark_maths([\"2+2=4\", \"3+2=5\", \"10-3=3\", \"5+5=10\"])\n",
    "print(res)\n",
    "res=mark_maths([\"1-2=-2\"])\n",
    "print(res)\n",
    "res=mark_maths([\"2+3=5\", \"4+4=9\", \"3-1=2\"])\n",
    "print(res)\n"
   ]
  },
  {
   "cell_type": "code",
   "execution_count": null,
   "id": "cf98fff2",
   "metadata": {},
   "outputs": [],
   "source": []
  },
  {
   "cell_type": "markdown",
   "id": "254cff8d",
   "metadata": {},
   "source": [
    "4. There are two players, Alice and Bob, each with a 3-by-3 grid. A referee tells Alice to fill out one particular row in the grid (say the second row) by putting either a 1 or a 0 in each box, such that the sum of the numbers in that row is odd. The referee tells Bob to fill out one column in the grid (say the first column) by putting either a 1 or a 0 in each box, such that the sum of the numbers in that column is even.\n",
    "\n",
    "Alice and Bob win the game if Alice’s numbers give an odd sum, Bob’s give an even sum, and (most important) they’ve each written down the same number in the one square where their row and column intersect.\n",
    "\n",
    "Examples\n",
    "\n",
    "magic_square_game([2, \"100\"], [1, \"101\"]) ➞ False\n",
    "\n",
    "magic_square_game([2, \"001\"], [1, \"101\"]) ➞ True\n",
    "\n",
    "magic_square_game([3, \"111\"], [2, \"011\"]) ➞ True\n",
    "\n",
    "magic_square_game([1, \"010\"], [3, \"101\"]) ➞ False\n",
    "\n",
    "Two lists, Alice [row, \"her choice\"], Bob [column, \"his choice\"]\n"
   ]
  },
  {
   "cell_type": "code",
   "execution_count": 61,
   "id": "0920dd8e",
   "metadata": {},
   "outputs": [
    {
     "name": "stdout",
     "output_type": "stream",
     "text": [
      "False\n",
      "True\n",
      "True\n",
      "False\n"
     ]
    }
   ],
   "source": [
    "def magic_square_game(l1,l2):\n",
    "    if l1[1][l2[0]-1]==l2[1][l1[0]-1] : return True\n",
    "    else : return False\n",
    "    \n",
    "res=magic_square_game([2, \"100\"], [1, \"101\"])\n",
    "print(res)\n",
    "res=magic_square_game([2, \"001\"], [1, \"101\"]) \n",
    "print(res)\n",
    "res=magic_square_game([3, \"111\"], [2, \"011\"]) \n",
    "print(res)\n",
    "res=magic_square_game([1, \"010\"], [3, \"101\"])\n",
    "print(res)"
   ]
  },
  {
   "cell_type": "code",
   "execution_count": null,
   "id": "1db8fe28",
   "metadata": {},
   "outputs": [],
   "source": []
  },
  {
   "cell_type": "markdown",
   "id": "c14dacae",
   "metadata": {},
   "source": [
    "5. From point A, an object is moving towards point B at constant velocity va (in km/hr). From point B, another object is moving towards point A at constant velocity vb (in km/hr). Knowing this and the distance between point A and B (in km), write a function that returns how much time passes until both objects meet.\n",
    "\n",
    "Format the output like this:\n",
    "\n",
    "\"2h 23min 34s\"\n",
    "\n",
    "Examples\n",
    "\n",
    "lets_meet(100, 10, 30) ➞ \"2h 30min 0s\"\n",
    "\n",
    "lets_meet(280, 70, 80) ➞ \"1h 52min 0s\"\n",
    "\n",
    "lets_meet(90, 75, 65) ➞ \"0h 38min 34s\"\n"
   ]
  },
  {
   "cell_type": "code",
   "execution_count": 63,
   "id": "8a65b401",
   "metadata": {},
   "outputs": [
    {
     "name": "stdout",
     "output_type": "stream",
     "text": [
      "2h30m0s\n",
      "1h52m0s\n",
      "0h38m34s\n"
     ]
    }
   ],
   "source": [
    "import math\n",
    "def lets_meet(dist,va,vb):\n",
    "    total_time = dist/(va+vb)\n",
    "    h = math.floor(total_time) \n",
    "    m = math.floor((total_time-h)*60)\n",
    "    s = math.floor(((((total_time)-h)*60)-m)*60)\n",
    "    return str(h)+\"h\"+str(m)+\"m\"+str(s)+\"s\"\n",
    "\n",
    "res=lets_meet(100, 10, 30)\n",
    "print(res)\n",
    "res=lets_meet(280, 70, 80)\n",
    "print(res)\n",
    "res=lets_meet(90, 75, 65)\n",
    "print(res)"
   ]
  },
  {
   "cell_type": "code",
   "execution_count": null,
   "id": "089b930d",
   "metadata": {},
   "outputs": [],
   "source": []
  }
 ],
 "metadata": {
  "kernelspec": {
   "display_name": "Python 3 (ipykernel)",
   "language": "python",
   "name": "python3"
  },
  "language_info": {
   "codemirror_mode": {
    "name": "ipython",
    "version": 3
   },
   "file_extension": ".py",
   "mimetype": "text/x-python",
   "name": "python",
   "nbconvert_exporter": "python",
   "pygments_lexer": "ipython3",
   "version": "3.9.12"
  }
 },
 "nbformat": 4,
 "nbformat_minor": 5
}
