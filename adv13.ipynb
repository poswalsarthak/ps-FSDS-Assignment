{
 "cells": [
  {
   "cell_type": "markdown",
   "id": "658cd97d",
   "metadata": {},
   "source": [
    "1. Create a function that takes a list and string. The function should remove the letters in the string from the list, and return the list.\n",
    "\n",
    "Examples\n",
    "\n",
    "remove_letters([\"s\", \"t\", \"r\", \"i\", \"n\", \"g\", \"w\"], \"string\") ➞ [\"w\"]\n",
    "\n",
    "remove_letters([\"b\", \"b\", \"l\", \"l\", \"g\", \"n\", \"o\", \"a\", \"w\"], \"balloon\") ➞ [\"b\", \"g\", \"w\"]\n",
    "\n",
    "remove_letters([\"d\", \"b\", \"t\", \"e\", \"a\", \"i\"], \"edabit\") ➞ []\n"
   ]
  },
  {
   "cell_type": "code",
   "execution_count": 18,
   "id": "18881017",
   "metadata": {},
   "outputs": [
    {
     "name": "stdout",
     "output_type": "stream",
     "text": [
      "['w']\n",
      "['b', 'g', 'w']\n",
      "[]\n"
     ]
    }
   ],
   "source": [
    "def remove_letters(lst,string):\n",
    "    for i in string:\n",
    "        if i in lst:\n",
    "            lst.remove(i)\n",
    "    return lst\n",
    "    \n",
    "res=remove_letters([\"s\", \"t\", \"r\", \"i\", \"n\", \"g\", \"w\"], \"string\")\n",
    "print(res)\n",
    "res=remove_letters([\"b\", \"b\", \"l\", \"l\", \"g\", \"n\", \"o\", \"a\", \"w\"], \"balloon\")\n",
    "print(res)\n",
    "res=remove_letters([\"d\", \"b\", \"t\", \"e\", \"a\", \"i\"], \"edabit\")\n",
    "print(res)"
   ]
  },
  {
   "cell_type": "code",
   "execution_count": null,
   "id": "ee64e23e",
   "metadata": {},
   "outputs": [],
   "source": []
  },
  {
   "cell_type": "markdown",
   "id": "3f4ffe83",
   "metadata": {},
   "source": [
    "2. A block sequence in three dimensions. We can write a formula for this one:\n",
    "\n",
    "\n",
    "\n",
    "\n",
    "\n",
    "\n",
    "\n",
    "\n",
    "\n",
    "\n",
    "Create a function that takes a number (step) as an argument and returns the amount of blocks in that step.\n",
    "\n",
    "Examples\n",
    "\n",
    "blocks(1) ➞ 5\n",
    "\n",
    "blocks(5) ➞ 39\n",
    "\n",
    "blocks(2) ➞ 12\n"
   ]
  },
  {
   "cell_type": "code",
   "execution_count": 16,
   "id": "5c6484e0",
   "metadata": {},
   "outputs": [
    {
     "name": "stdout",
     "output_type": "stream",
     "text": [
      "5\n",
      "39\n",
      "12\n"
     ]
    }
   ],
   "source": [
    "def blocks(n):\n",
    "    no_of_blocks,elevation=5,7\n",
    "    if n==0 : return 0\n",
    "    else: \n",
    "        for i in range(n-1):\n",
    "            no_of_blocks+=elevation\n",
    "            elevation+=1\n",
    "    return no_of_blocks\n",
    "\n",
    "res=blocks(1)\n",
    "print(res)\n",
    "res=blocks(5)\n",
    "print(res)\n",
    "res=blocks(2)\n",
    "print(res)"
   ]
  },
  {
   "cell_type": "code",
   "execution_count": null,
   "id": "e6d43811",
   "metadata": {},
   "outputs": [],
   "source": []
  },
  {
   "cell_type": "markdown",
   "id": "77b16f74",
   "metadata": {},
   "source": [
    "3. Create a function that subtracts one positive integer from another, without using any arithmetic operators such as -, %, /, +, etc.\n",
    "\n",
    "Examples\n",
    "\n",
    "my_sub(5, 9) ➞ 4\n",
    "\n",
    "my_sub(10, 30) ➞ 20\n",
    "\n",
    "my_sub(0, 0) ➞ 0\n"
   ]
  },
  {
   "cell_type": "code",
   "execution_count": 17,
   "id": "9394e874",
   "metadata": {},
   "outputs": [
    {
     "data": {
      "text/plain": [
       "20"
      ]
     },
     "execution_count": 17,
     "metadata": {},
     "output_type": "execute_result"
    }
   ],
   "source": [
    "from operator import sub\n",
    "def my_sub(a,b):\n",
    "    output = sub(a,b) if a >= b else sub(b,a)\n",
    "    return output\n",
    "my_sub(10, 30) "
   ]
  },
  {
   "cell_type": "code",
   "execution_count": null,
   "id": "19c1021e",
   "metadata": {},
   "outputs": [],
   "source": []
  },
  {
   "cell_type": "markdown",
   "id": "2804ae94",
   "metadata": {},
   "source": [
    "4. Create a function that takes a string containing money in dollars and pounds sterling (seperated by comma) and returns the sum of dollar bills only, as an integer.\n",
    "\n",
    "For the input string:\n",
    "\n",
    "   - Each amount is prefixed by the currency symbol: $ for dollars and £ for pounds.\n",
    "   - Thousands are represented by the suffix k.\n",
    "\n",
    "i.e. $4k = $4,000 and £40k = £40,000\n",
    "\n",
    "Examples\n",
    "\n",
    "add_bill(\"d20,p40,p60,d50\") ➞ 20 + 50 = 70\n",
    "\n",
    "add_bill(\"p30,d20,p60,d150,p360\") ➞ 20  + 150 = 170\n",
    "\n",
    "add_bill(\"p30,d2k,p60,d200,p360\") ➞ 2 * 1000 + 200 = 2200\n"
   ]
  },
  {
   "cell_type": "code",
   "execution_count": 37,
   "id": "1dd34296",
   "metadata": {},
   "outputs": [
    {
     "name": "stdout",
     "output_type": "stream",
     "text": [
      "2200\n"
     ]
    }
   ],
   "source": [
    "def add_bill(string):\n",
    "    string=string.split(\",\")\n",
    "    sum=0\n",
    "    for ele in string:\n",
    "        if 'd' in ele: \n",
    "            ele=ele.lstrip('d')\n",
    "            if 'k' in ele : \n",
    "                ele=ele.rstrip('k')\n",
    "                sum+=int(ele)*1000\n",
    "            else : sum+=int(ele)\n",
    "    return sum\n",
    "                \n",
    "res=add_bill(\"p30,d2k,p60,d200,p360\")\n",
    "print(res)"
   ]
  },
  {
   "cell_type": "code",
   "execution_count": null,
   "id": "5a59239f",
   "metadata": {},
   "outputs": [],
   "source": []
  },
  {
   "cell_type": "markdown",
   "id": "cf30112c",
   "metadata": {},
   "source": [
    "5. Create a function that flips a horizontal list into a vertical list, and a vertical list into a horizontal list.\n",
    "\n",
    "In other words, take an 1 x n list (1 row + n columns) and flip it into a n x 1 list (n rows and 1 column), and vice versa.\n",
    "\n",
    "Examples\n",
    "\n",
    "flip_list([1, 2, 3, 4]) ➞ [[1], [2], [3], [4]]\n",
    " #Take a horizontal list and flip it vertical.\n",
    "\n",
    "flip_list([[5], [6], [9]]) ➞ [5, 6, 9]\n",
    "#Take a vertical list and flip it horizontal.\n",
    "\n",
    "flip_list([]) ➞ []\n"
   ]
  },
  {
   "cell_type": "code",
   "execution_count": 41,
   "id": "f3de3b62",
   "metadata": {},
   "outputs": [
    {
     "name": "stdout",
     "output_type": "stream",
     "text": [
      "[[1], [2], [3], [4]]\n",
      "[5, 6, 9]\n",
      "[]\n"
     ]
    }
   ],
   "source": [
    "def flip_list(lst):\n",
    "    temp=[]\n",
    "    for i in lst:\n",
    "        if type(i)!=list:temp.append([i])\n",
    "        else : temp.append(i[0])\n",
    "    return temp\n",
    "\n",
    "res = flip_list([1, 2, 3, 4])\n",
    "print(res)\n",
    "res = flip_list([[5], [6], [9]])\n",
    "print(res)\n",
    "res = flip_list([])\n",
    "print(res)"
   ]
  },
  {
   "cell_type": "code",
   "execution_count": null,
   "id": "0d981680",
   "metadata": {},
   "outputs": [],
   "source": []
  },
  {
   "cell_type": "code",
   "execution_count": null,
   "id": "1d47c88b",
   "metadata": {},
   "outputs": [],
   "source": []
  }
 ],
 "metadata": {
  "kernelspec": {
   "display_name": "Python 3 (ipykernel)",
   "language": "python",
   "name": "python3"
  },
  "language_info": {
   "codemirror_mode": {
    "name": "ipython",
    "version": 3
   },
   "file_extension": ".py",
   "mimetype": "text/x-python",
   "name": "python",
   "nbconvert_exporter": "python",
   "pygments_lexer": "ipython3",
   "version": "3.9.12"
  }
 },
 "nbformat": 4,
 "nbformat_minor": 5
}
