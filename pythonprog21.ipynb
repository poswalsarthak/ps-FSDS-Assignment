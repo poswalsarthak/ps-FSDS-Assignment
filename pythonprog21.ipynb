{
 "cells": [
  {
   "cell_type": "markdown",
   "id": "1e2f426d",
   "metadata": {},
   "source": [
    "Question1\n",
    "Write a function that takes a list and a number as arguments. Add the number to the end of the list, then remove the first element of the list. The function should then return the updated list.\n"
   ]
  },
  {
   "cell_type": "code",
   "execution_count": 2,
   "id": "3e9f29c1",
   "metadata": {},
   "outputs": [
    {
     "data": {
      "text/plain": [
       "[6, 7, 8, 9, 1]"
      ]
     },
     "execution_count": 2,
     "metadata": {},
     "output_type": "execute_result"
    }
   ],
   "source": [
    "def next_in_line(l,n):\n",
    "    l.append(n)\n",
    "    l.remove(l[0])\n",
    "    return l\n",
    "    \n",
    "next_in_line([5, 6, 7, 8, 9], 1)"
   ]
  },
  {
   "cell_type": "code",
   "execution_count": null,
   "id": "2405e79e",
   "metadata": {},
   "outputs": [],
   "source": []
  },
  {
   "cell_type": "markdown",
   "id": "f8e1451b",
   "metadata": {},
   "source": [
    "Question2\n",
    "\n",
    "Create the function that takes a list of dictionaries and returns the sum of people's budgets.\n"
   ]
  },
  {
   "cell_type": "code",
   "execution_count": 12,
   "id": "034cc0f8",
   "metadata": {},
   "outputs": [
    {
     "name": "stdout",
     "output_type": "stream",
     "text": [
      "65700\n"
     ]
    }
   ],
   "source": [
    "def get_budgets(d):\n",
    "    sum=0\n",
    "    for i in d:\n",
    "        for j in i:\n",
    "            if j=='budget':\n",
    "                sum+=i['budget']\n",
    "    return sum\n",
    "\n",
    "result=get_budgets([\n",
    "  { \"name\": \"John\", \"age\": 21, \"budget\": 23000 },\n",
    "  { \"name\": \"Steve\",  \"age\": 32, \"budget\": 40000 },\n",
    "  { \"name\": \"Martin\",  \"age\": 16, \"budget\": 2700 }\n",
    "])\n",
    "\n",
    "print(result)\n",
    "        "
   ]
  },
  {
   "cell_type": "code",
   "execution_count": null,
   "id": "f0d952f9",
   "metadata": {},
   "outputs": [],
   "source": []
  },
  {
   "cell_type": "markdown",
   "id": "00bb51db",
   "metadata": {},
   "source": [
    "Question3\n",
    "Create a function that takes a string and returns a string with its letters in alphabetical order.\n"
   ]
  },
  {
   "cell_type": "code",
   "execution_count": 17,
   "id": "942f36f7",
   "metadata": {},
   "outputs": [
    {
     "name": "stdout",
     "output_type": "stream",
     "text": [
      "ehllo\n"
     ]
    }
   ],
   "source": [
    "def alphabet_soup(s):\n",
    "    return ''.join(sorted(s))\n",
    "\n",
    "res=alphabet_soup(\"hello\")\n",
    "print(res)"
   ]
  },
  {
   "cell_type": "code",
   "execution_count": null,
   "id": "33b2c6ba",
   "metadata": {},
   "outputs": [],
   "source": []
  },
  {
   "cell_type": "markdown",
   "id": "39b91c7d",
   "metadata": {},
   "source": [
    "Question4\n",
    "\n",
    "Suppose that you invest $10,000 for 10 years at an interest rate of 6% compounded monthly. What will be the value of your investment at the end of the 10 year period?\n",
    "Create a function that accepts the principal p, the term in years t, the interest rate r, and the number of compounding periods per year n. The function returns the value at the end of term rounded to the nearest cent.\n",
    "For the example above:\n",
    "compound_interest(10000, 10, 0.06, 12) ➞ 18193.97\n",
    "Note that the interest rate is given as a decimal and n=12 because with monthly compounding there are 12 periods per year. Compounding can also be done annually, quarterly, weekly, or daily.\n"
   ]
  },
  {
   "cell_type": "code",
   "execution_count": 38,
   "id": "fec8950e",
   "metadata": {},
   "outputs": [
    {
     "name": "stdout",
     "output_type": "stream",
     "text": [
      "11899.26\n"
     ]
    }
   ],
   "source": [
    "def compound_interest(p,t,r,n):\n",
    "    return round(p*(1+(r/n))**(n*t) - p , 2)\n",
    "\n",
    "res=compound_interest(3500, 15, 0.1, 4)\n",
    "print(res)"
   ]
  },
  {
   "cell_type": "code",
   "execution_count": null,
   "id": "84cd832d",
   "metadata": {},
   "outputs": [],
   "source": []
  },
  {
   "cell_type": "markdown",
   "id": "a0dfd9d8",
   "metadata": {},
   "source": [
    "Question5\n",
    "\n",
    "Write a function that takes a list of elements and returns only the integers.\n"
   ]
  },
  {
   "cell_type": "code",
   "execution_count": 43,
   "id": "79717eb8",
   "metadata": {},
   "outputs": [
    {
     "name": "stdout",
     "output_type": "stream",
     "text": [
      "[9, 2, 16]\n"
     ]
    }
   ],
   "source": [
    "def return_only_integer(l):\n",
    "    filtered_list=[ i for i in l if type(i)==int ]\n",
    "    return filtered_list\n",
    "\n",
    "res=return_only_integer([9, 2, \"space\", \"car\", \"lion\", 16])\n",
    "print(res)"
   ]
  },
  {
   "cell_type": "code",
   "execution_count": null,
   "id": "2ff66cd8",
   "metadata": {},
   "outputs": [],
   "source": []
  }
 ],
 "metadata": {
  "kernelspec": {
   "display_name": "Python 3 (ipykernel)",
   "language": "python",
   "name": "python3"
  },
  "language_info": {
   "codemirror_mode": {
    "name": "ipython",
    "version": 3
   },
   "file_extension": ".py",
   "mimetype": "text/x-python",
   "name": "python",
   "nbconvert_exporter": "python",
   "pygments_lexer": "ipython3",
   "version": "3.9.12"
  }
 },
 "nbformat": 4,
 "nbformat_minor": 5
}
