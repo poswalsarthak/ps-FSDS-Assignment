{
 "cells": [
  {
   "cell_type": "code",
   "execution_count": null,
   "id": "d883026f",
   "metadata": {},
   "outputs": [],
   "source": [
    "1. Why are functions advantageous to have in your programs?\n",
    "\n",
    "Code Reusability: makes it possible to reuse the code.\n",
    "More understandable : using functions makes the programs shorter, easier to read, and easier to update.\n"
   ]
  },
  {
   "cell_type": "code",
   "execution_count": null,
   "id": "781f5f4f",
   "metadata": {},
   "outputs": [],
   "source": [
    "2. When does the code in a function run: when it is specified or when it is called?\n",
    "\n",
    "The code runs when the function is called. Defining the function does not make the code run. But calling it does."
   ]
  },
  {
   "cell_type": "code",
   "execution_count": null,
   "id": "1604434d",
   "metadata": {},
   "outputs": [],
   "source": [
    "3. What statement creates a function?\n",
    "\n",
    "def function_name(parameters):\n"
   ]
  },
  {
   "cell_type": "code",
   "execution_count": null,
   "id": "cfa47603",
   "metadata": {},
   "outputs": [],
   "source": [
    "4. What is the difference between a function and a function call?\n",
    "\n",
    "A function is a block of codes but doesn't execute on it's own. \n",
    "A function call is executing that funtion to achieve some result."
   ]
  },
  {
   "cell_type": "code",
   "execution_count": null,
   "id": "e03a7b80",
   "metadata": {},
   "outputs": [],
   "source": [
    "5.How many global scopes are there in a Python program? How many local scopes?\n",
    "\n",
    "There is only one global Python scope per program execution. This scope remains in existence until the program terminates\n",
    "and all its names are forgotten.\n",
    "Local scope is in function .Every varible defined in a function will have it's scope in that function only.\n",
    "Different variable in different function have their own local scope so in a program more than one local scope is possible.\n"
   ]
  },
  {
   "cell_type": "code",
   "execution_count": null,
   "id": "2df47b2a",
   "metadata": {},
   "outputs": [],
   "source": [
    "6. What happens to variables in a local scope when the function call returns?\n",
    "\n",
    "After the function terminates the local variable gets destroyed."
   ]
  },
  {
   "cell_type": "code",
   "execution_count": null,
   "id": "78f007a9",
   "metadata": {},
   "outputs": [],
   "source": [
    "7. What is the concept of a return value? Is it possible to have a return value in an expression?\n",
    "\n",
    "In programmin a function may or may not return a value depending upon the task that function performs.\n",
    "Yes, it is possible to have an expression as a return value.\n",
    "\n"
   ]
  },
  {
   "cell_type": "code",
   "execution_count": null,
   "id": "f7e378a2",
   "metadata": {},
   "outputs": [],
   "source": [
    "8. If a function does not have a return statement, what is the return value of a call to that function?\n",
    "\n",
    "then None is returned"
   ]
  },
  {
   "cell_type": "code",
   "execution_count": null,
   "id": "7d16f8d6",
   "metadata": {},
   "outputs": [],
   "source": [
    "9. How do you make a function variable refer to the global variable?\n",
    "\n",
    "global keyword is used to refer a function variable refer to global variable."
   ]
  },
  {
   "cell_type": "code",
   "execution_count": null,
   "id": "2d1e2bf0",
   "metadata": {},
   "outputs": [],
   "source": [
    "10. What is the data type of None?\n",
    "\n",
    "It is a data type of the class NoneType object"
   ]
  },
  {
   "cell_type": "code",
   "execution_count": null,
   "id": "659debc8",
   "metadata": {},
   "outputs": [],
   "source": [
    "11. What does the sentence import areallyourpetsnamederic do?\n",
    "\n",
    "it will import module name areallyourpetsnamederic"
   ]
  },
  {
   "cell_type": "code",
   "execution_count": null,
   "id": "758b6e50",
   "metadata": {},
   "outputs": [],
   "source": [
    "12. If you had a bacon() feature in a spam module, what would you call it after importing spam?\n",
    "\n",
    "it can be called by spam.bacon()"
   ]
  },
  {
   "cell_type": "code",
   "execution_count": null,
   "id": "10a7822f",
   "metadata": {},
   "outputs": [],
   "source": [
    "13. What can you do to save a programme from crashing if it encounters an error?\n",
    "\n",
    "We can use exception handling. \n",
    "Putting the code that might give an error in a try clause block will help."
   ]
  },
  {
   "cell_type": "code",
   "execution_count": null,
   "id": "b4883dcb",
   "metadata": {},
   "outputs": [],
   "source": [
    "14. What is the purpose of the try clause? What is the purpose of the except clause?\n",
    "\n",
    "The try block allows you to test a block of code for errors. \n",
    "The except block enables you to handle the error with a user-defined response.\n",
    "\n"
   ]
  }
 ],
 "metadata": {
  "kernelspec": {
   "display_name": "Python 3 (ipykernel)",
   "language": "python",
   "name": "python3"
  },
  "language_info": {
   "codemirror_mode": {
    "name": "ipython",
    "version": 3
   },
   "file_extension": ".py",
   "mimetype": "text/x-python",
   "name": "python",
   "nbconvert_exporter": "python",
   "pygments_lexer": "ipython3",
   "version": "3.9.7"
  }
 },
 "nbformat": 4,
 "nbformat_minor": 5
}
