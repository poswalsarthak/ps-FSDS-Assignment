{
 "cells": [
  {
   "cell_type": "code",
   "execution_count": 13,
   "id": "08c79778",
   "metadata": {},
   "outputs": [
    {
     "name": "stdout",
     "output_type": "stream",
     "text": [
      "Enter a number : 89\n",
      "Disarium Number \n"
     ]
    }
   ],
   "source": [
    "# 1.\tWrite a Python program to check if the given number is a Disarium Number?\n",
    "\n",
    "def dis(n):\n",
    "    count=len(str(n))\n",
    "    temp=n\n",
    "    sum=0\n",
    "    while n>0:\n",
    "        sum+=(n%10)**count\n",
    "        count-=1\n",
    "        n=n//10\n",
    "    if sum==temp:\n",
    "        return True\n",
    "    else:\n",
    "        return False    \n",
    "#########################################\n",
    "    \n",
    "n=int(input(\"Enter a number : \"))\n",
    "if dis(n):\n",
    "    print(\"Disarium Number \")\n",
    "else:\n",
    "    print(\"Not disarium no.\")"
   ]
  },
  {
   "cell_type": "code",
   "execution_count": 3,
   "id": "20450668",
   "metadata": {},
   "outputs": [
    {
     "name": "stdout",
     "output_type": "stream",
     "text": [
      "1\n",
      "2\n",
      "3\n",
      "4\n",
      "5\n",
      "6\n",
      "7\n",
      "8\n",
      "9\n",
      "89\n"
     ]
    }
   ],
   "source": [
    "# 2.\tWrite a Python program to print all disarium numbers between 1 to 100?\n",
    "\n",
    "def dis(n):\n",
    "    count=len(str(n))\n",
    "    temp=n\n",
    "    sum=0\n",
    "    while n>0:\n",
    "        sum+=(n%10)**count\n",
    "        count-=1\n",
    "        n=n//10\n",
    "    if sum==temp:\n",
    "        return True\n",
    "    else:\n",
    "        return False    \n",
    "#########################################\n",
    "    \n",
    "for i in range(1,101):\n",
    "    if dis(i):\n",
    "        print(i)\n"
   ]
  },
  {
   "cell_type": "code",
   "execution_count": 9,
   "id": "ce2288f0",
   "metadata": {},
   "outputs": [
    {
     "name": "stdout",
     "output_type": "stream",
     "text": [
      "Enter any positive number : 79\n",
      "Happy number\n"
     ]
    }
   ],
   "source": [
    "# 3.\tWrite a Python program to check if the given number is Happy Number?\n",
    "def hno(n):\n",
    "    if n==1 or n==7:\n",
    "        return True\n",
    "    sum=0\n",
    "    while n>0:\n",
    "        sum+=(n%10)**2\n",
    "        n=n//10 \n",
    "    if sum==1:\n",
    "        return True \n",
    "    elif len(str(sum))>1 :\n",
    "        return hno(sum)\n",
    "    \n",
    "    \n",
    "n=int(input(\"Enter any positive number : \"))\n",
    "if hno(n):\n",
    "    print(\"Happy number\")\n",
    "else :\n",
    "    print(\"Not happy number\")"
   ]
  },
  {
   "cell_type": "code",
   "execution_count": 2,
   "id": "803aea18",
   "metadata": {},
   "outputs": [
    {
     "name": "stdout",
     "output_type": "stream",
     "text": [
      "1\n",
      "7\n",
      "10\n",
      "13\n",
      "19\n",
      "23\n",
      "28\n",
      "31\n",
      "32\n",
      "44\n",
      "49\n",
      "68\n",
      "70\n",
      "79\n",
      "82\n",
      "86\n",
      "91\n",
      "94\n",
      "97\n",
      "100\n"
     ]
    }
   ],
   "source": [
    "# 4.\tWrite a Python program to print all happy numbers between 1 and 100?\n",
    "\n",
    "def hno(n):\n",
    "    if n==1 or n==7:\n",
    "        return True\n",
    "    sum=0\n",
    "    while n>0:\n",
    "        sum+=(n%10)**2\n",
    "        n=n//10 \n",
    "    if sum==1:\n",
    "        return True \n",
    "    elif len(str(sum))>1 :\n",
    "        return hno(sum)\n",
    "    \n",
    "    \n",
    "for i in range(1,101):\n",
    "    if hno(i):\n",
    "        print(i)"
   ]
  },
  {
   "cell_type": "code",
   "execution_count": 13,
   "id": "19158daa",
   "metadata": {},
   "outputs": [
    {
     "name": "stdout",
     "output_type": "stream",
     "text": [
      "Enter the number : 156\n",
      "Harshad Number\n"
     ]
    }
   ],
   "source": [
    "# 5.\tWrite a Python program to determine whether the given number is a Harshad Number?\n",
    "\n",
    "def harnum(n):\n",
    "    sum=0\n",
    "    temp=n\n",
    "    while temp>0:\n",
    "        sum+=temp%10\n",
    "        temp//=10\n",
    "    return n%sum==0\n",
    "    \n",
    "n=int(input(\"Enter the number : \"))\n",
    "if harnum(n):print(\"Harshad Number\")\n",
    "else:print(\"Not harshad number\")"
   ]
  },
  {
   "cell_type": "code",
   "execution_count": 2,
   "id": "91d19554",
   "metadata": {},
   "outputs": [
    {
     "name": "stdout",
     "output_type": "stream",
     "text": [
      "2\n",
      "6\n",
      "12\n",
      "20\n",
      "30\n",
      "42\n",
      "56\n",
      "72\n",
      "90\n"
     ]
    }
   ],
   "source": [
    "# 6.\tWrite a Python program to print all pronic numbers between 1 and 100?\n",
    "\n",
    "def pno(n):\n",
    "    if n==2:\n",
    "        return True\n",
    "    \n",
    "    for i in range(2,n+1):\n",
    "        if n%i==0:\n",
    "            if i*(i+1)==n:\n",
    "                return True\n",
    "    \n",
    "        \n",
    "for i in range(1,100):\n",
    "    if pno(i): print(i)"
   ]
  },
  {
   "cell_type": "code",
   "execution_count": null,
   "id": "1f0dff23",
   "metadata": {},
   "outputs": [],
   "source": []
  }
 ],
 "metadata": {
  "kernelspec": {
   "display_name": "Python 3 (ipykernel)",
   "language": "python",
   "name": "python3"
  },
  "language_info": {
   "codemirror_mode": {
    "name": "ipython",
    "version": 3
   },
   "file_extension": ".py",
   "mimetype": "text/x-python",
   "name": "python",
   "nbconvert_exporter": "python",
   "pygments_lexer": "ipython3",
   "version": "3.9.7"
  }
 },
 "nbformat": 4,
 "nbformat_minor": 5
}
