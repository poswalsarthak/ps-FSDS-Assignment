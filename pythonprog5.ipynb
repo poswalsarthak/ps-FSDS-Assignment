{
 "cells": [
  {
   "cell_type": "code",
   "execution_count": 5,
   "id": "6f0d871d",
   "metadata": {},
   "outputs": [
    {
     "name": "stdout",
     "output_type": "stream",
     "text": [
      "Enter first number : 12\n",
      "Enter second number : 14\n",
      "LCM of  12  and  14  is :  84\n"
     ]
    }
   ],
   "source": [
    "# 1.\tWrite a Python Program to Find LCM?\n",
    "\n",
    "def find_lcm(n1,n2):\n",
    "    if n1>n2:\n",
    "        bigger=n1\n",
    "    else:\n",
    "        bigger=n2\n",
    "\n",
    "    while(True):\n",
    "        if bigger%n1==0 and bigger%n2==0 :\n",
    "            lcm = bigger\n",
    "            break\n",
    "        bigger += 1\n",
    "    return lcm\n",
    "\n",
    "n1=int(input(\"Enter first number : \"))\n",
    "n2=int(input(\"Enter second number : \"))\n",
    "print(\"LCM of \",n1,\" and \",n2,\" is : \",find_lcm(n1,n2))\n"
   ]
  },
  {
   "cell_type": "code",
   "execution_count": 13,
   "id": "fa7035f1",
   "metadata": {},
   "outputs": [
    {
     "name": "stdout",
     "output_type": "stream",
     "text": [
      "Enter first number : 12\n",
      "Enter second number : 14\n",
      "HCF of  12  and  14  is :  2\n"
     ]
    }
   ],
   "source": [
    "# 2.\tWrite a Python Program to Find HCF?\n",
    "\n",
    "def find_hcf(n1,n2):\n",
    "    if n1<n2:\n",
    "        s=n1\n",
    "    else:\n",
    "        s=n2\n",
    "\n",
    "    while(True):\n",
    "        if n1%s==0 and n2%s==0 :\n",
    "            hcf = s\n",
    "            break\n",
    "        s -= 1\n",
    "    return hcf\n",
    "\n",
    "n1=int(input(\"Enter first number : \"))\n",
    "n2=int(input(\"Enter second number : \"))\n",
    "print(\"HCF of \",n1,\" and \",n2,\" is : \",find_hcf(n1,n2))\n",
    "\n"
   ]
  },
  {
   "cell_type": "code",
   "execution_count": 17,
   "id": "3cca64f6",
   "metadata": {},
   "outputs": [
    {
     "name": "stdout",
     "output_type": "stream",
     "text": [
      "Enter a decimal no : 5\n",
      "5  in binary is:  0b101\n",
      "5  in octal is:  0o5\n",
      "5  in hexadecimal is:  0x5\n"
     ]
    }
   ],
   "source": [
    "# 3.\tWrite a Python Program to Convert Decimal to Binary, Octal and Hexadecimal?\n",
    "\n",
    "dec=int(input(\"Enter a decimal no : \"))\n",
    "print(dec,\" in binary is: \",bin(dec))\n",
    "print(dec,\" in octal is: \",oct(dec))\n",
    "print(dec,\" in hexadecimal is: \",hex(dec))\n"
   ]
  },
  {
   "cell_type": "code",
   "execution_count": 21,
   "id": "e8756c34",
   "metadata": {},
   "outputs": [
    {
     "name": "stdout",
     "output_type": "stream",
     "text": [
      "Enter a char to print ascii value : A\n",
      "ASCII value of  A  is  65\n"
     ]
    }
   ],
   "source": [
    "# 4.\tWrite a Python Program To Find ASCII value of a character?\n",
    "\n",
    "char=input(\"Enter a char to print ascii value : \")\n",
    "print(\"ASCII value of \",char,\" is \",ord(char))\n"
   ]
  },
  {
   "cell_type": "code",
   "execution_count": 27,
   "id": "121ab309",
   "metadata": {},
   "outputs": [
    {
     "name": "stdout",
     "output_type": "stream",
     "text": [
      "Enter first number : 5\n",
      "Enter second number : 6\n",
      "Press 1 for Addition\n",
      "Press 2 for Subtraction \n",
      "Press 3 for Multiplication \n",
      "Press 4 for Division\n",
      "3\n",
      "Multiplication =  30\n"
     ]
    }
   ],
   "source": [
    "# 5.\tWrite a Python Program to Make a Simple Calculator with 4 basic mathematical operations?\n",
    "\n",
    "n1=int(input(\"Enter first number : \"))\n",
    "n2=int(input(\"Enter second number : \"))\n",
    "print(\"Press 1 for Addition\\nPress 2 for Subtraction \\nPress 3 for Multiplication \\nPress 4 for Division\")\n",
    "opt=int(input())\n",
    "if opt==1:\n",
    "    print(\"Addition = \",n1+n2)\n",
    "elif opt==2:\n",
    "    print(\"Subtraction = \",n1-n2)\n",
    "elif opt==3:\n",
    "    print(\"Multiplication = \",n1*n2)\n",
    "elif opt==4:\n",
    "    print(\"Division = \",n1/n2)"
   ]
  },
  {
   "cell_type": "code",
   "execution_count": null,
   "id": "e39ff665",
   "metadata": {},
   "outputs": [],
   "source": []
  }
 ],
 "metadata": {
  "kernelspec": {
   "display_name": "Python 3 (ipykernel)",
   "language": "python",
   "name": "python3"
  },
  "language_info": {
   "codemirror_mode": {
    "name": "ipython",
    "version": 3
   },
   "file_extension": ".py",
   "mimetype": "text/x-python",
   "name": "python",
   "nbconvert_exporter": "python",
   "pygments_lexer": "ipython3",
   "version": "3.9.7"
  }
 },
 "nbformat": 4,
 "nbformat_minor": 5
}
