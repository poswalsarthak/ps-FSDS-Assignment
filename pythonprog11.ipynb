{
 "cells": [
  {
   "cell_type": "code",
   "execution_count": 6,
   "id": "63554561",
   "metadata": {},
   "outputs": [
    {
     "name": "stdout",
     "output_type": "stream",
     "text": [
      "Hello\n",
      "there\n",
      "doing\n"
     ]
    }
   ],
   "source": [
    "# 1.\tWrite a Python program to find words which are greater than given length k?\n",
    "string = \"Hello there how are you doing\"\n",
    "l=string.split(\" \")\n",
    "lenght=4\n",
    "for i in l:\n",
    "    if len(i)>lenght:\n",
    "        print(i)"
   ]
  },
  {
   "cell_type": "code",
   "execution_count": 12,
   "id": "53d8d50b",
   "metadata": {},
   "outputs": [
    {
     "name": "stdout",
     "output_type": "stream",
     "text": [
      "Enter the position from which u want to remove the chrac : 1\n",
      "New string after removing the character : Hllo thr how ar you doing\n"
     ]
    }
   ],
   "source": [
    "#2.\tWrite a Python program for removing i-th character from a string?\n",
    "ith=int(input(\"Enter the position from which u want to remove the chrac : \"))\n",
    "string = \"Hello there how are you doing\"\n",
    "new_str=\"\"\n",
    "for i in string:\n",
    "    if i!=string[ith]:\n",
    "        new_str+=i\n",
    "print(\"New string after removing the character : \"+new_str)"
   ]
  },
  {
   "cell_type": "code",
   "execution_count": 21,
   "id": "9f8950e9",
   "metadata": {},
   "outputs": [
    {
     "name": "stdout",
     "output_type": "stream",
     "text": [
      "['Hello', 'there', 'how', 'are', 'you', 'doing']\n",
      "Hello there how are you doing\n"
     ]
    }
   ],
   "source": [
    "# 3.\tWrite a Python program to split and join a string?\n",
    "string = \"Hello there how are you doing\"\n",
    "l=string.split(\" \")\n",
    "print(l)\n",
    "new_str=\" \".join(l)\n",
    "print(new_str)"
   ]
  },
  {
   "cell_type": "code",
   "execution_count": 7,
   "id": "49b06506",
   "metadata": {},
   "outputs": [
    {
     "name": "stdout",
     "output_type": "stream",
     "text": [
      "Binary\n"
     ]
    }
   ],
   "source": [
    "# 4.\tWrite a Python to check if a given string is binary string or not?\n",
    "s='01001'\n",
    "for i in s:\n",
    "    if int(i)>1:\n",
    "        print(\"Not binary\")\n",
    "        break\n",
    "else : print(\"Binary\")"
   ]
  },
  {
   "cell_type": "code",
   "execution_count": 9,
   "id": "2a918ab6",
   "metadata": {},
   "outputs": [
    {
     "name": "stdout",
     "output_type": "stream",
     "text": [
      "hello\n",
      "no\n",
      "see\n",
      "hi\n",
      "yeah\n"
     ]
    }
   ],
   "source": [
    "# 5.\tWrite a Python program to find uncommon words from two Strings?\n",
    "\n",
    "def findunword(s1,s2):\n",
    "    \n",
    "    l1=s1.split(\" \")\n",
    "    l2=s2.split(\" \")\n",
    "    for i in l1:\n",
    "        if i not in l2:\n",
    "            print(i)\n",
    "    for i in l2:\n",
    "        if i not in l1:\n",
    "            print(i)\n",
    "        \n",
    "s1=\"hello there long time no see\"\n",
    "s2=\"hi there yeah long time\"\n",
    "findunword(s1,s2)\n"
   ]
  },
  {
   "cell_type": "code",
   "execution_count": 14,
   "id": "60aa25f2",
   "metadata": {},
   "outputs": [
    {
     "name": "stdout",
     "output_type": "stream",
     "text": [
      "['h', 'e', 'l', 'o', ' ', 't', 'n']\n"
     ]
    }
   ],
   "source": [
    "# 6.\tWrite a Python to find all duplicate characters in string?\n",
    "\n",
    "def fun6(s1):\n",
    "    l1=[i for i in s1]\n",
    "    l2=[]\n",
    "    for i in l1:\n",
    "        c=l1.count(i)\n",
    "        if c>1:\n",
    "            if i not in l2:\n",
    "                l2.append(i)\n",
    "    print(l2)\n",
    "        \n",
    "\n",
    "    \n",
    "s1=\"hello there long time no see\"\n",
    "fun6(s1)"
   ]
  },
  {
   "cell_type": "code",
   "execution_count": 17,
   "id": "c0b6eb36",
   "metadata": {},
   "outputs": [
    {
     "name": "stdout",
     "output_type": "stream",
     "text": [
      "!\n"
     ]
    }
   ],
   "source": [
    "# 7.\tWrite a Python Program to check if a string contains any special character?\n",
    "def spchar(s1):\n",
    "    spc=\"[@_!#$%^&*()<>?/\\|}{~:]\"\n",
    "    for i in s1:\n",
    "        if i in spc:\n",
    "            print(i)\n",
    "            \n",
    "s1=\"hello there! long time no see\"\n",
    "spchar(s1)\n",
    "            \n"
   ]
  },
  {
   "cell_type": "code",
   "execution_count": null,
   "id": "2c452012",
   "metadata": {},
   "outputs": [],
   "source": []
  }
 ],
 "metadata": {
  "kernelspec": {
   "display_name": "Python 3 (ipykernel)",
   "language": "python",
   "name": "python3"
  },
  "language_info": {
   "codemirror_mode": {
    "name": "ipython",
    "version": 3
   },
   "file_extension": ".py",
   "mimetype": "text/x-python",
   "name": "python",
   "nbconvert_exporter": "python",
   "pygments_lexer": "ipython3",
   "version": "3.9.7"
  }
 },
 "nbformat": 4,
 "nbformat_minor": 5
}
