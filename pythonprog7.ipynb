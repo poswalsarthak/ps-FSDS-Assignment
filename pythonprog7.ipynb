{
 "cells": [
  {
   "cell_type": "code",
   "execution_count": 4,
   "id": "d7e4355a",
   "metadata": {},
   "outputs": [
    {
     "name": "stdout",
     "output_type": "stream",
     "text": [
      "Sum :  15\n"
     ]
    }
   ],
   "source": [
    "# 1.\tWrite a Python Program to find sum of array? \n",
    "import array\n",
    "a=array.array('i',[1,2,3,4,5])\n",
    "sum=0\n",
    "for i in range(0,len(a)):\n",
    "    sum+=a[i]\n",
    "print(\"Sum : \",sum)"
   ]
  },
  {
   "cell_type": "code",
   "execution_count": 8,
   "id": "3f9dcafe",
   "metadata": {},
   "outputs": [
    {
     "name": "stdout",
     "output_type": "stream",
     "text": [
      "Largest element is :  7\n"
     ]
    }
   ],
   "source": [
    "# 2.\tWrite a Python Program to find largest element in an array?\n",
    "\n",
    "import array\n",
    "a=array.array('i',[1,2,7,4,0])\n",
    "l=a[0]\n",
    "for i in range(0,len(a)):\n",
    "    if a[i]>l:\n",
    "        l=a[i]\n",
    "print(\"Largest element is : \",l)"
   ]
  },
  {
   "cell_type": "code",
   "execution_count": 40,
   "id": "14f3feaa",
   "metadata": {},
   "outputs": [
    {
     "name": "stdout",
     "output_type": "stream",
     "text": [
      "Enter 1 for clockwise dir\n",
      "Enter 2 for anticlockwise dir :\n",
      " 2\n",
      "Array lenght :  9\n",
      "Enter a no. less than array length to perform shift : 5\n",
      "[6, 7, 8, 9, 1, 2, 3, 4, 5]\n"
     ]
    }
   ],
   "source": [
    "#3.\tWrite a Python Program for array rotation?\n",
    "\n",
    "arr=[1,2,3,4,5,6,7,8,9]\n",
    "dir=int(input(\"Enter 1 for clockwise dir\\nEnter 2 for anticlockwise dir :\\n \"))\n",
    "print(\"Array lenght : \",len(arr))\n",
    "shift=int(input(\"Enter a no. less than array length to perform shift : \"))\n",
    "\n",
    "temp=[]\n",
    "if dir==1:\n",
    "    for i in range((len(arr)-shift),len(arr)):\n",
    "        temp.append(arr[i])\n",
    "    for j in range(0,len(arr)-shift):\n",
    "        temp.append(arr[j])\n",
    "else: \n",
    "    for i in range(shift,len(arr)):\n",
    "        temp.append(arr[i])\n",
    "    for j in range(0,shift):\n",
    "        temp.append(arr[j])\n",
    "    \n",
    "print(temp)\n",
    "\n",
    "\n",
    "\n"
   ]
  },
  {
   "cell_type": "code",
   "execution_count": 42,
   "id": "58a4f305",
   "metadata": {},
   "outputs": [
    {
     "name": "stdout",
     "output_type": "stream",
     "text": [
      "[1, 2, 3, 4, 5, 6, 7, 8, 9]\n",
      "Enter the index no. from which you want to split : 5\n",
      "Array after splitting: \n",
      "[5, 6, 7, 8, 9, 1, 2, 3, 4]\n"
     ]
    }
   ],
   "source": [
    "# 4.\tWrite a Python Program to Split the array and add the first part to the end?\n",
    "\n",
    "arr=[1,2,3,4,5,6,7,8,9]\n",
    "print(arr)\n",
    "split=int(input(\"Enter the index no. from which you want to split : \"))\n",
    "\n",
    "temp=[]\n",
    "for i in range((len(arr)-shift),len(arr)):\n",
    "    temp.append(arr[i])\n",
    "for j in range(0,len(arr)-shift):\n",
    "    temp.append(arr[j])\n",
    "\n",
    "print(\"Array after splitting: \")\n",
    "print(temp)"
   ]
  },
  {
   "cell_type": "code",
   "execution_count": 75,
   "id": "177fef0a",
   "metadata": {},
   "outputs": [
    {
     "name": "stdout",
     "output_type": "stream",
     "text": [
      "[5, 4, 3, 3]\n",
      "Monotonic\n"
     ]
    }
   ],
   "source": [
    "# 5.\tWrite a Python Program to check if given array is Monotonic?\n",
    "\n",
    "arr=[5,4,3,3]\n",
    "print(arr)\n",
    "count1=0 # for sorted inc\n",
    "count2=0 # for sorted dec\n",
    "\n",
    "\n",
    "for i in range(len(arr)-1):\n",
    "    if (arr[i]<=arr[i+1]):\n",
    "        count1+=1\n",
    "for i in range(len(arr)-1):\n",
    "    if (arr[i]>=arr[i+1]):\n",
    "         count2+=1\n",
    "if count1==len(arr)-1  or count2==len(arr)-1 :\n",
    "    print(\"Monotonic\")\n",
    "else:\n",
    "    print(\"Not monotonic\")\n"
   ]
  },
  {
   "cell_type": "code",
   "execution_count": null,
   "id": "bac39d52",
   "metadata": {},
   "outputs": [],
   "source": []
  }
 ],
 "metadata": {
  "kernelspec": {
   "display_name": "Python 3 (ipykernel)",
   "language": "python",
   "name": "python3"
  },
  "language_info": {
   "codemirror_mode": {
    "name": "ipython",
    "version": 3
   },
   "file_extension": ".py",
   "mimetype": "text/x-python",
   "name": "python",
   "nbconvert_exporter": "python",
   "pygments_lexer": "ipython3",
   "version": "3.9.7"
  }
 },
 "nbformat": 4,
 "nbformat_minor": 5
}
