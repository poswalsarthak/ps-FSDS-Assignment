{
 "cells": [
  {
   "cell_type": "code",
   "execution_count": 1,
   "id": "2e25af5d",
   "metadata": {},
   "outputs": [
    {
     "name": "stdout",
     "output_type": "stream",
     "text": [
      "Hello Python\n"
     ]
    }
   ],
   "source": [
    "# 1. Write a Python program to print \"Hello Python\"\n",
    "\n",
    "print(\"Hello Python\")"
   ]
  },
  {
   "cell_type": "code",
   "execution_count": 2,
   "id": "ad1d9db1",
   "metadata": {},
   "outputs": [
    {
     "name": "stdout",
     "output_type": "stream",
     "text": [
      "8\n",
      "11.0\n"
     ]
    }
   ],
   "source": [
    "# 2. Write a Python program to do arithmetical operations addition and division.?\n",
    "\n",
    "print(3+5)\n",
    "print(121/11)"
   ]
  },
  {
   "cell_type": "code",
   "execution_count": 3,
   "id": "d93a3112",
   "metadata": {},
   "outputs": [
    {
     "name": "stdout",
     "output_type": "stream",
     "text": [
      "25.0\n"
     ]
    }
   ],
   "source": [
    "# 3. 2. Write a Python program to find area of triangle\n",
    "\n",
    "height=5\n",
    "base= 10\n",
    "area=(1/2)*base*height\n",
    "print(area)"
   ]
  },
  {
   "cell_type": "code",
   "execution_count": 9,
   "id": "b783320d",
   "metadata": {},
   "outputs": [
    {
     "name": "stdout",
     "output_type": "stream",
     "text": [
      "Before swapping a = 80 and b=90\n",
      "After swapping  a = 90 and b=80\n"
     ]
    }
   ],
   "source": [
    "# 4. 2. Write a Python program to swap two variable\n",
    "\n",
    "a=90\n",
    "b=80\n",
    "c=a\n",
    "a=b\n",
    "b=c\n",
    "print(\"Before swapping a = {} and b={}\".format(a,b))\n",
    "a,b=b,a\n",
    "print(\"After swapping  a = {} and b={}\".format(a,b))"
   ]
  },
  {
   "cell_type": "code",
   "execution_count": 8,
   "id": "240eedb7",
   "metadata": {},
   "outputs": [
    {
     "name": "stdout",
     "output_type": "stream",
     "text": [
      "0.4077690853466005\n"
     ]
    }
   ],
   "source": [
    "#  5. Write a Python program to generate a random number?\n",
    "\n",
    "import random\n",
    "n = random.random()  \n",
    "print(n) "
   ]
  },
  {
   "cell_type": "code",
   "execution_count": null,
   "id": "a39c4330",
   "metadata": {},
   "outputs": [],
   "source": []
  }
 ],
 "metadata": {
  "kernelspec": {
   "display_name": "Python 3 (ipykernel)",
   "language": "python",
   "name": "python3"
  },
  "language_info": {
   "codemirror_mode": {
    "name": "ipython",
    "version": 3
   },
   "file_extension": ".py",
   "mimetype": "text/x-python",
   "name": "python",
   "nbconvert_exporter": "python",
   "pygments_lexer": "ipython3",
   "version": "3.9.7"
  }
 },
 "nbformat": 4,
 "nbformat_minor": 5
}
