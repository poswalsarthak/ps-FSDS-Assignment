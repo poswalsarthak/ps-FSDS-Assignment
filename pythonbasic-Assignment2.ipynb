{
 "cells": [
  {
   "cell_type": "raw",
   "id": "3ea3cdef",
   "metadata": {},
   "source": [
    "1.What are the two values of the Boolean data type? How do you write them?\n",
    "\n",
    "Python boolean type is one of the built-in data types provided by Python, which represents one of the two values i.e. True or False. Generally, it is used to represent the truth values of the expressions.\n",
    "a=True\n",
    "b=False"
   ]
  },
  {
   "cell_type": "raw",
   "id": "6ac0a8b3",
   "metadata": {},
   "source": [
    "2. What are the three different types of Boolean operators?\n",
    "\n",
    "The three basic boolean operators are: AND, OR, and NOT."
   ]
  },
  {
   "cell_type": "raw",
   "id": "bc83f41a",
   "metadata": {},
   "source": [
    "3. Make a list of each Boolean operator's truth tables (i.e. every possible combination of Boolean\n",
    "values for the operator and what it evaluate ).\n",
    "\n",
    "OR Truth table\n",
    "  x\t    y  \t  Output\n",
    "  0\t\t0\t\t0\n",
    "  0\t\t1\t\t1\n",
    "  1\t\t0\t\t1\n",
    "  1\t\t1\t\t1\n",
    "  \n",
    "AND truth table\n",
    "  x     y\t  Output\n",
    "  0\t\t0\t\t0\n",
    "  0\t\t1\t\t0\n",
    "  1\t\t0\t\t0\n",
    "  1\t\t1\t\t1\n",
    "  \n",
    "NOT truth table\n",
    "  x   Output\n",
    "  0\t\t1\t\n",
    "  1\t\t0\t\n",
    "\n",
    "\n",
    "\n"
   ]
  },
  {
   "cell_type": "raw",
   "id": "35064d68",
   "metadata": {},
   "source": [
    "4. What are the values of the following expressions?\n",
    "\n",
    "(5 > 4) and (3 == 5)                         False\n",
    "not (5 > 4)                                  False\n",
    "(5 > 4) or (3 == 5)                          True\n",
    "not ((5 > 4) or (3 == 5))                    False\n",
    "(True and True) and (True == False)          False\n",
    "(not False) or (not True)                    True\n",
    "\n"
   ]
  },
  {
   "cell_type": "raw",
   "id": "6f1067f3",
   "metadata": {},
   "source": [
    "5. What are the six comparison operators?\n",
    "\n",
    "Less than ( < )\n",
    "Less than or equal to ( <= )\n",
    "Greater than ( > )\n",
    "Greater than or equal to ( >= )\n",
    "Equal to ( == )\n",
    "Not equal to ( != )\n"
   ]
  },
  {
   "cell_type": "raw",
   "id": "4a726045",
   "metadata": {},
   "source": [
    "6. How do you tell the difference between the equal to and assignment operators?Describe a\n",
    "condition and when you would use one.\n",
    "\n",
    "The equal to(==) operator is used to check if both the operands are same and return true if both are same otherwise return false.\n",
    "The assignment (=) operator is used to assign value to a variable.\n",
    "\n",
    "Condition in porgramming is used when you have to make a decision based on the evaluation of the expression.If condition is true a block of statements is executed and if the condition is false then another block of code is executed.\n",
    "Conditionla statements are useful when there could be more than one output and you have to proceed differently for each output.\n",
    "\n"
   ]
  },
  {
   "cell_type": "raw",
   "id": "30fac7bf",
   "metadata": {},
   "source": [
    "7. Identify the three blocks in this code:\n",
    "\n",
    "                spam = 0\n",
    "Block 1 :       if spam == 10:\n",
    "                 print('eggs')\n",
    "Block 2  :      if spam > 5:\n",
    "                 print('bacon')\n",
    "Block 3   :     else:\n",
    "                 print('ham')\n",
    "                print('spam')\n",
    "                print('spam')"
   ]
  },
  {
   "cell_type": "raw",
   "id": "25e2774d",
   "metadata": {},
   "source": [
    "8. Write code that prints Hello if 1 is stored in spam, prints Howdy if 2 is stored in spam, and prints\n",
    "Greetings! if anything else is stored in spam.\n",
    "\n",
    "spam = 1\n",
    "if spam==1:\n",
    " print('Hello')\n",
    "if spam==2:\n",
    " print('Howdy')\n",
    "else:\n",
    " print('Greetings!')"
   ]
  },
  {
   "cell_type": "raw",
   "id": "8de884bd",
   "metadata": {},
   "source": [
    "9.If your programme is stuck in an endless loop, what keys you’ll press?\n",
    "\n",
    "Ctrl + C is used to kill a program and come out of infinite loop.\n"
   ]
  },
  {
   "cell_type": "raw",
   "id": "df6b8528",
   "metadata": {},
   "source": [
    "10. How can you tell the difference between break and continue?\n",
    "\n",
    "Break  :   When break is encountered the switch or loop execution is immediately stopped.\n",
    "Continue : When continue is encountered, the statements after it are skipped and the loop control jump to next iteration.\n",
    "\n"
   ]
  },
  {
   "cell_type": "raw",
   "id": "29c03d5f",
   "metadata": {},
   "source": [
    "11. In a for loop, what is the difference between range(10), range(0, 10), and range(0, 10, 1)?\n",
    "\n",
    "There is no difference between range(10), range(0, 10), and range(0, 10, 1) all three will print the same output."
   ]
  },
  {
   "cell_type": "code",
   "execution_count": 16,
   "id": "6118f724",
   "metadata": {},
   "outputs": [],
   "source": [
    "12. Write a short program that prints the numbers 1 to 10 using a for loop. Then write an equivalent\n",
    "program that prints the numbers 1 to 10 using a while loop.\n",
    "\n",
    "\n",
    "for i in range(1,11):\n",
    "    print(i)\n",
    "print('-----------------------------------')\n",
    "i=1\n",
    "while i<=10:\n",
    "    print(i)\n",
    "    i=i+1"
   ]
  },
  {
   "cell_type": "raw",
   "id": "400dd927",
   "metadata": {},
   "source": [
    "13. If you had a function named bacon() inside a module named spam, how would you call it after\n",
    "importing spam?\n",
    "\n",
    "This function can be called with spam.bacon().\n"
   ]
  },
  {
   "cell_type": "code",
   "execution_count": null,
   "id": "c393fd77",
   "metadata": {},
   "outputs": [],
   "source": []
  }
 ],
 "metadata": {
  "kernelspec": {
   "display_name": "Python 3 (ipykernel)",
   "language": "python",
   "name": "python3"
  },
  "language_info": {
   "codemirror_mode": {
    "name": "ipython",
    "version": 3
   },
   "file_extension": ".py",
   "mimetype": "text/x-python",
   "name": "python",
   "nbconvert_exporter": "python",
   "pygments_lexer": "ipython3",
   "version": "3.9.7"
  }
 },
 "nbformat": 4,
 "nbformat_minor": 5
}
