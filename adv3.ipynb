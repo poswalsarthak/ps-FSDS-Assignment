{
 "cells": [
  {
   "cell_type": "markdown",
   "id": "7218a9b8",
   "metadata": {},
   "source": [
    "1. Create a function to perform basic arithmetic operations that includes addition, subtraction, multiplication and division on a string number (e.g. \"12 + 24\" or \"23 - 21\" or \"12 // 12\" or \"12 * 21\").\n",
    "\n",
    "Here, we have 1 followed by a space, operator followed by another space and 2. For the challenge, we are going to have only two numbers between 1 valid operator. The return value should be a number.\n",
    "\n",
    "eval() is not allowed. In case of division, whenever the second number equals \"0\" return -1.\n"
   ]
  },
  {
   "cell_type": "code",
   "execution_count": 6,
   "id": "4ff2ffad",
   "metadata": {},
   "outputs": [
    {
     "data": {
      "text/plain": [
       "1.0"
      ]
     },
     "execution_count": 6,
     "metadata": {},
     "output_type": "execute_result"
    }
   ],
   "source": [
    "def arithmetic_operation(s):\n",
    "    l=s.split()\n",
    "    if l[1]=='+' : return int(l[0])+int(l[2])\n",
    "    elif l[1]=='-' : return int(l[0])-int(l[2])\n",
    "    elif l[1]=='*' : return int(l[0])*int(l[2])\n",
    "    elif l[1]=='/' :\n",
    "        if l[2]=='0' : return -1\n",
    "        else : return int(l[0])/int(l[2])\n",
    "\n",
    "arithmetic_operation(\"12 / 12\")"
   ]
  },
  {
   "cell_type": "code",
   "execution_count": null,
   "id": "2310f764",
   "metadata": {},
   "outputs": [],
   "source": []
  },
  {
   "cell_type": "markdown",
   "id": "2b4f0392",
   "metadata": {},
   "source": [
    "2. Write a function that takes the coordinates of three points in the form of a 2d array and returns the perimeter of the triangle. The given points are the vertices of a triangle on a two-dimensional plane.\n",
    "\n"
   ]
  },
  {
   "cell_type": "code",
   "execution_count": 13,
   "id": "fcc10e23",
   "metadata": {},
   "outputs": [
    {
     "data": {
      "text/plain": [
       "47.07918859608948"
      ]
     },
     "execution_count": 13,
     "metadata": {},
     "output_type": "execute_result"
    }
   ],
   "source": [
    "import math\n",
    "def perimeter(l):\n",
    "    return (math.sqrt((l[1][0]-l[0][0])**2 + (l[1][1]-l[0][1])**2) + math.sqrt((l[2][0]-l[1][0])**2 + (l[2][1]-l[1][1])**2) \n",
    "            + math.sqrt((l[2][0]-l[0][0])**2 + (l[2][1]-l[0][1])**2) )\n",
    "    \n",
    "perimeter( [ [15, 7], [5, 22], [11, 1] ] ) \n"
   ]
  },
  {
   "cell_type": "code",
   "execution_count": null,
   "id": "432544da",
   "metadata": {},
   "outputs": [],
   "source": []
  },
  {
   "cell_type": "markdown",
   "id": "f9d0a74a",
   "metadata": {},
   "source": [
    "3. A city skyline can be represented as a 2-D list with 1s representing buildings. In the example below, the height of the tallest building is 4 (second-most right column).Create a function that takes a skyline (2-D list of 0's and 1's) and returns the height of the tallest skyscraper.\n",
    "\n"
   ]
  },
  {
   "cell_type": "code",
   "execution_count": 28,
   "id": "bc6c8ad5",
   "metadata": {},
   "outputs": [
    {
     "data": {
      "text/plain": [
       "4"
      ]
     },
     "execution_count": 28,
     "metadata": {},
     "output_type": "execute_result"
    }
   ],
   "source": [
    "def tallest_skyscraper(l):\n",
    "    count = 0\n",
    "    for i in l:\n",
    "        count+=1\n",
    "        for j in i:\n",
    "            if j==1 : return len(l)-count+1\n",
    "    \n",
    "tallest_skyscraper([\n",
    "  [0, 1, 0, 0],\n",
    "  [0, 1, 0, 0],\n",
    "  [0, 1, 1, 0],\n",
    "  [1, 1, 1, 1]\n",
    "]) \n",
    "\n"
   ]
  },
  {
   "cell_type": "code",
   "execution_count": null,
   "id": "21e7247c",
   "metadata": {},
   "outputs": [],
   "source": []
  },
  {
   "cell_type": "markdown",
   "id": "dbcdfa07",
   "metadata": {},
   "source": [
    "4. A financial institution provides professional services to banks and claims charges from the customers based on the number of man-days provided. Internally, it has set a scheme to motivate and reward staff to meet and exceed targeted billable utilization and revenues by paying a bonus for each day claimed from customers in excess of a threshold target.\n",
    "\n",
    "This quarterly scheme is calculated with a threshold target of 32 days per quarter, and the incentive payment for each billable day in excess of such threshold target is shown as follows:\n",
    "\n",
    "Days\t                             Bonus\n",
    "0 to 32 days\t                   Zero\n",
    "33 to 40 days\t         SGD$325 per billable day\n",
    "41 to 48 days\t         SGD$550 per billable day\n",
    "Greater than 48 days      SGD$600 per billable day\n",
    "\n",
    "Please note that incentive payment is calculated progressively. As an example, if an employee reached total billable days of 45 in a quarter, his/her incentive payment is computed as follows:\n",
    "\n",
    "32*0 + 8*325 + 5*550 = 5350\n",
    "\n",
    "Write a function to read the billable days of an employee and return the bonus he/she has obtained in that quarter.\n"
   ]
  },
  {
   "cell_type": "code",
   "execution_count": 31,
   "id": "f7eaa1dc",
   "metadata": {},
   "outputs": [
    {
     "data": {
      "text/plain": [
       "8200"
      ]
     },
     "execution_count": 31,
     "metadata": {},
     "output_type": "execute_result"
    }
   ],
   "source": [
    "def bonus(n):\n",
    "    if n<=32 : return 0\n",
    "    elif n>32 and n<=40 : return (n-32)*325\n",
    "    elif n>40 and n<=48 : return 8*325 + (n-40)*550\n",
    "    else : return 8*325 + 8*550 + (n-48)*600\n",
    "\n",
    "bonus(50)"
   ]
  },
  {
   "cell_type": "code",
   "execution_count": null,
   "id": "169e89ed",
   "metadata": {},
   "outputs": [],
   "source": []
  },
  {
   "cell_type": "markdown",
   "id": "5d15d8e6",
   "metadata": {},
   "source": [
    "5. A number is said to be Disarium if the sum of its digits raised to their respective positions is the number itself.\n",
    "\n",
    "Create a function that determines whether a number is a Disarium or not.\n"
   ]
  },
  {
   "cell_type": "code",
   "execution_count": 33,
   "id": "b0d4d140",
   "metadata": {},
   "outputs": [
    {
     "data": {
      "text/plain": [
       "True"
      ]
     },
     "execution_count": 33,
     "metadata": {},
     "output_type": "execute_result"
    }
   ],
   "source": [
    "def is_disarium(n):\n",
    "    sum=0\n",
    "    temp=n\n",
    "    while n>0:\n",
    "        sum+=(n%10)**len(str(n))\n",
    "        n//=10\n",
    "    if temp==sum : return True\n",
    "    else : return False\n",
    "    \n",
    "is_disarium(135) "
   ]
  },
  {
   "cell_type": "code",
   "execution_count": null,
   "id": "aa2ee0fc",
   "metadata": {},
   "outputs": [],
   "source": []
  }
 ],
 "metadata": {
  "kernelspec": {
   "display_name": "Python 3 (ipykernel)",
   "language": "python",
   "name": "python3"
  },
  "language_info": {
   "codemirror_mode": {
    "name": "ipython",
    "version": 3
   },
   "file_extension": ".py",
   "mimetype": "text/x-python",
   "name": "python",
   "nbconvert_exporter": "python",
   "pygments_lexer": "ipython3",
   "version": "3.9.12"
  }
 },
 "nbformat": 4,
 "nbformat_minor": 5
}
