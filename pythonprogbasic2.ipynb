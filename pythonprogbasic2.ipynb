{
 "cells": [
  {
   "cell_type": "code",
   "execution_count": 4,
   "id": "dd414b79",
   "metadata": {},
   "outputs": [
    {
     "name": "stdout",
     "output_type": "stream",
     "text": [
      "Enter KM : 45\n",
      "Miles = 27.961773149241303\n"
     ]
    }
   ],
   "source": [
    "# 1. Write a Python program to convert kilometers to miles?\n",
    "\n",
    "km=float(input(\"Enter KM : \"))\n",
    "print(\"Miles = {}\".format(km/1.60934))"
   ]
  },
  {
   "cell_type": "code",
   "execution_count": 5,
   "id": "a778b4ce",
   "metadata": {},
   "outputs": [
    {
     "name": "stdout",
     "output_type": "stream",
     "text": [
      "104.0\n"
     ]
    }
   ],
   "source": [
    "# 2. Write a Python program to convert Celsius to Fahrenheit?\n",
    "\n",
    "celsius=40\n",
    "fahrenheit=celsius*(9/5)+32\n",
    "print(fahrenheit)\n"
   ]
  },
  {
   "cell_type": "code",
   "execution_count": 9,
   "id": "53922e26",
   "metadata": {},
   "outputs": [
    {
     "name": "stdout",
     "output_type": "stream",
     "text": [
      "Enter the year : 2022\n",
      "Enter the month : 1\n",
      "    January 2022\n",
      "Mo Tu We Th Fr Sa Su\n",
      "                1  2\n",
      " 3  4  5  6  7  8  9\n",
      "10 11 12 13 14 15 16\n",
      "17 18 19 20 21 22 23\n",
      "24 25 26 27 28 29 30\n",
      "31\n",
      "\n"
     ]
    }
   ],
   "source": [
    "# 3. Write a Python program to display calendar?\n",
    "\n",
    "import calendar\n",
    "\n",
    "year=int(input(\"Enter the year : \"))\n",
    "month=int(input(\"Enter the month : \"))\n",
    "print(calendar.month(year,month))"
   ]
  },
  {
   "cell_type": "code",
   "execution_count": 14,
   "id": "eb267d95",
   "metadata": {},
   "outputs": [
    {
     "name": "stdout",
     "output_type": "stream",
     "text": [
      "Enter the coefficients of x**21\n",
      "Enter the coefficients of x5\n",
      "Enter the constant6\n",
      "Solutions for the quadratic equation 1x**2 + 5x + 6 = 0 are : \n",
      "(-3+0j) and (-2+0j) \n"
     ]
    }
   ],
   "source": [
    "# 4. Write a Python program to solve quadratic equation?\n",
    "\n",
    "import cmath\n",
    "a=int(input(\"Enter the coefficients of x**2\"))\n",
    "b=int(input(\"Enter the coefficients of x\"))\n",
    "c=int(input(\"Enter the constant\"))\n",
    "d=b*b - 4*a*c\n",
    "s1=(-b-cmath.sqrt(d))/2*a\n",
    "s2=(-b+cmath.sqrt(d))/2*a\n",
    "print(\"Solutions for the quadratic equation {}x**2 + {}x + {} = 0 are : \".format(a,b,c))\n",
    "print(\"{} and {} \".format(s1,s2))\n"
   ]
  },
  {
   "cell_type": "code",
   "execution_count": 15,
   "id": "6d9af1dc",
   "metadata": {},
   "outputs": [
    {
     "name": "stdout",
     "output_type": "stream",
     "text": [
      "Before swapping a = 90 and b=80\n",
      "After swapping  a = 80 and b=90\n"
     ]
    }
   ],
   "source": [
    "# 5. Write a Python program to swap two variables without temp variable?\n",
    "\n",
    "a=90\n",
    "b=80\n",
    "print(\"Before swapping a = {} and b={}\".format(a,b))\n",
    "a,b=b,a\n",
    "print(\"After swapping  a = {} and b={}\".format(a,b))"
   ]
  },
  {
   "cell_type": "code",
   "execution_count": null,
   "id": "b0965f28",
   "metadata": {},
   "outputs": [],
   "source": []
  }
 ],
 "metadata": {
  "kernelspec": {
   "display_name": "Python 3 (ipykernel)",
   "language": "python",
   "name": "python3"
  },
  "language_info": {
   "codemirror_mode": {
    "name": "ipython",
    "version": 3
   },
   "file_extension": ".py",
   "mimetype": "text/x-python",
   "name": "python",
   "nbconvert_exporter": "python",
   "pygments_lexer": "ipython3",
   "version": "3.9.7"
  }
 },
 "nbformat": 4,
 "nbformat_minor": 5
}
