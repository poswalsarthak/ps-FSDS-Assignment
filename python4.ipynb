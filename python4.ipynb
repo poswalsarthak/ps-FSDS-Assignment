{
 "cells": [
  {
   "cell_type": "code",
   "execution_count": null,
   "id": "15385aa8",
   "metadata": {},
   "outputs": [],
   "source": [
    "# 1. What exactly is []?\n",
    "\n",
    "In python square brackets [] are used to define a list\n",
    "Ex: car=['maruti','swift']\n",
    "This list can be accessed with indexes"
   ]
  },
  {
   "cell_type": "code",
   "execution_count": 4,
   "id": "096afbb9",
   "metadata": {},
   "outputs": [
    {
     "name": "stdout",
     "output_type": "stream",
     "text": [
      "[2, 4, 'hello', 8, 10]\n"
     ]
    }
   ],
   "source": [
    "# 2. In a list of values stored in a variable called spam, how would you assign the value 'hello' as the third value? \n",
    "#(Assume [2, 4, 6, 8, 10] are in spam.)\n",
    "\n",
    "spam = [2, 4, 6, 8, 10]\n",
    "spam[2] = 'hello'\n",
    "print(spam)"
   ]
  },
  {
   "cell_type": "code",
   "execution_count": null,
   "id": "983eea59",
   "metadata": {},
   "outputs": [],
   "source": [
    "# Let's pretend the spam includes the list ['a', 'b', 'c', 'd'] for the next three queries."
   ]
  },
  {
   "cell_type": "code",
   "execution_count": null,
   "id": "207e833b",
   "metadata": {},
   "outputs": [],
   "source": [
    "# 3. What is the value of spam[int(int('3' * 2) / 11)]?\n",
    "\n",
    "'d'"
   ]
  },
  {
   "cell_type": "code",
   "execution_count": null,
   "id": "25000a6c",
   "metadata": {},
   "outputs": [],
   "source": [
    "# 4. What is the value of spam[-1]?\n",
    "\n",
    "'d'"
   ]
  },
  {
   "cell_type": "code",
   "execution_count": null,
   "id": "61909886",
   "metadata": {},
   "outputs": [],
   "source": [
    "# 5. What is the value of spam[:2]?\n",
    "\n",
    "['a', 'b']"
   ]
  },
  {
   "cell_type": "code",
   "execution_count": null,
   "id": "1abe0a6d",
   "metadata": {},
   "outputs": [],
   "source": [
    "# Let's pretend bacon has the list [3.14, 'cat,' 11, 'cat,' True] for the next three questions.\n",
    "I corrected the list, there was syntax error in question, previos bacon list=[3.14, 'cat,' 11, 'cat,' True] "
   ]
  },
  {
   "cell_type": "code",
   "execution_count": null,
   "id": "54f980e5",
   "metadata": {},
   "outputs": [],
   "source": [
    "# 6. What is the value of bacon.index('cat')?\n",
    "\n",
    "1"
   ]
  },
  {
   "cell_type": "code",
   "execution_count": null,
   "id": "41a4c40a",
   "metadata": {},
   "outputs": [],
   "source": [
    "# 7. How does bacon.append(99) change the look of the list value in bacon?\n",
    "\n",
    "[3.14, 'cat', 11, 'cat', True, 99]\n"
   ]
  },
  {
   "cell_type": "code",
   "execution_count": null,
   "id": "c3c43e91",
   "metadata": {},
   "outputs": [],
   "source": [
    "# 8. How does bacon.remove('cat') change the look of the list in bacon?\n",
    "\n",
    "[3.14, 11, 'cat', True]"
   ]
  },
  {
   "cell_type": "code",
   "execution_count": null,
   "id": "6a60bfdd",
   "metadata": {},
   "outputs": [],
   "source": [
    "# 9. What are the list concatenation and list replication operators?\n",
    "\n",
    "The operator for list concatenation is +.\n",
    "Ex: l1 = [1, 4, 5, 6, 5]\n",
    "    l2 = [3, 5, 7, 2, 5]\n",
    "    l3 = l1 + l2\n",
    "    \n",
    "The operator for replication is *.\n",
    "Ex: l1 = [1, 4, 5, 6, 5]*3\n",
    "    #print(l1) = [1, 4, 5, 6, 5, 1, 4, 5, 6, 5, 1, 4, 5, 6, 5]"
   ]
  },
  {
   "cell_type": "code",
   "execution_count": 17,
   "id": "60c2bc40",
   "metadata": {},
   "outputs": [
    {
     "name": "stdout",
     "output_type": "stream",
     "text": [
      "[1, 4, 5, 6, 5, 1, 4, 5, 6, 5, 1, 4, 5, 6, 5]\n"
     ]
    }
   ],
   "source": [
    "l1 = [1, 4, 5, 6, 5]*3\n",
    "print(l1)"
   ]
  },
  {
   "cell_type": "code",
   "execution_count": null,
   "id": "c46334e7",
   "metadata": {},
   "outputs": [],
   "source": [
    "# 10. What is difference between the list methods append() and insert()?\n",
    "\n",
    "There is a simple difference between append and insert in python list,\n",
    "append method can be use for adding new element in the list only but by using insert we can add as well as can modify already\n",
    "occupied position.\n",
    "append method takes one argument (which you have to insert in the list) \n",
    "while insert method takes two elements (first will be the position of element and second will the element itself)\n",
    "\n",
    "Below are examples for both methods use:\n",
    "\n",
    "Use of Append:\n",
    "\n",
    "list = [1,2,3,4,5]\n",
    "\n",
    "list.append(6)\n",
    "\n",
    "print(list) # [1,2,3,4,5,6]\n",
    "\n",
    "Use of Insert:\n",
    "\n",
    "list = [1,2,3,4,5]\n",
    "\n",
    "list.insert(5, 10) # [1,2,3,4,5,10]\n",
    "\n",
    "list.insert(1, 10) # [1,10,3,4,5]"
   ]
  },
  {
   "cell_type": "code",
   "execution_count": null,
   "id": "a067ca9e",
   "metadata": {},
   "outputs": [],
   "source": [
    "# 11. What are the two methods for removing items from a list?\n",
    "\n",
    "pop() :- This method deletes the element at the position mentioned in its arguments.It takes index as argument.\n",
    "lis = [2, 1, 3, 5, 4, 3, 8]\n",
    "lis.pop(1) # return 1\n",
    "\n",
    "remove() :- This function is used to delete the first occurrence of number mentioned in its arguments.\n",
    "lis = [2, 1, 3, 5, 4, 3, 8]\n",
    "lis.remove(1) # remove 1's first occurence only \n"
   ]
  },
  {
   "cell_type": "code",
   "execution_count": null,
   "id": "730392d3",
   "metadata": {},
   "outputs": [],
   "source": [
    "# 12. Describe how list values and string values are identical.\n",
    "\n",
    "List and string both are used to store value /data.\n",
    "Both are sequence."
   ]
  },
  {
   "cell_type": "code",
   "execution_count": null,
   "id": "ff80d3cb",
   "metadata": {},
   "outputs": [],
   "source": [
    "# 13. What's the difference between tuples and lists?\n",
    "\n",
    "        List                                                    Tuple\n",
    "1. It is mutable.                                        It is immutable.\n",
    "2. The implication of iterations is time-consuming       Implications of iterations are much faster in tuples.\n",
    "   in the list.\n",
    "3. Operations like insertion and deletion are better     Elements can be accessed better.\n",
    "   performed.\n",
    "4. Consumes more memory.                                 Consumes less memory.\n",
    "5. Many built-in methods are available.                  Does not have many built-in methods.\n",
    "6. Unexpected errors and changes can easily occur        Unexpected errors and changes rarely occur in tuples.\n",
    "   in lists.\n"
   ]
  },
  {
   "cell_type": "code",
   "execution_count": 19,
   "id": "855479ce",
   "metadata": {},
   "outputs": [
    {
     "name": "stdout",
     "output_type": "stream",
     "text": [
      "(42,)\n"
     ]
    }
   ],
   "source": [
    "# 14. How do you type a tuple value that only contains the integer 42?\n",
    "\n",
    "tup=(42,)\n",
    "print(tup)"
   ]
  },
  {
   "cell_type": "code",
   "execution_count": 24,
   "id": "892c1953",
   "metadata": {},
   "outputs": [
    {
     "name": "stdout",
     "output_type": "stream",
     "text": [
      "[(1, 2, 3), (4, 5, 6)]\n",
      "([1, 2, 3], [4, 5])\n"
     ]
    }
   ],
   "source": [
    "# 15. How do you get a list value's tuple form? How do you get a tuple value's list form?\n",
    "\n",
    "list1=[(1,2,3),(4,5,6)]\n",
    "print(list1)\n",
    "\n",
    "tuple0=([1,2,3],[4,5])\n",
    "print(tuple0)"
   ]
  },
  {
   "cell_type": "code",
   "execution_count": null,
   "id": "17531d6f",
   "metadata": {},
   "outputs": [],
   "source": [
    "# 16. Variables that \"contain\" list values are not necessarily lists themselves. Instead, what do they contain?\n",
    "\n",
    "They are reference to the list's memory location.\n",
    "When a define a list then a memory is allocated to it. The address of that memory is referenced by that variable."
   ]
  },
  {
   "cell_type": "code",
   "execution_count": null,
   "id": "f73dab6f",
   "metadata": {},
   "outputs": [],
   "source": [
    "#17. How do you distinguish between copy.copy() and copy.deepcopy()? \n",
    "copy.copy(x)\n",
    "Return a shallow copy of x.\n",
    "\n",
    "copy.deepcopy(x[, memo])\n",
    "Return a deep copy of x.\n",
    "\n",
    "exception copy.Error\n",
    "Raised for module specific errors.\n",
    "\n",
    "The difference between shallow and deep copying is only relevant for compound objects (objects that contain other objects,\n",
    "like lists or class instances):\n",
    "\n",
    "A shallow copy constructs a new compound object and then (to the extent possible) inserts references into it to the objects\n",
    "found in the original.\n",
    "\n",
    "A deep copy constructs a new compound object and then, recursively, inserts copies into it of the objects found in the\n",
    "original."
   ]
  }
 ],
 "metadata": {
  "kernelspec": {
   "display_name": "Python 3 (ipykernel)",
   "language": "python",
   "name": "python3"
  },
  "language_info": {
   "codemirror_mode": {
    "name": "ipython",
    "version": 3
   },
   "file_extension": ".py",
   "mimetype": "text/x-python",
   "name": "python",
   "nbconvert_exporter": "python",
   "pygments_lexer": "ipython3",
   "version": "3.9.7"
  }
 },
 "nbformat": 4,
 "nbformat_minor": 5
}
