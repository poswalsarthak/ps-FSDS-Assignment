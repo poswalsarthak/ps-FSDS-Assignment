{
 "cells": [
  {
   "cell_type": "raw",
   "id": "a00a47ae",
   "metadata": {},
   "source": [
    "Write a program that calculates and prints the value according to the given formula:\n",
    "Q = Square root of [(2 * C * D)/H]\n",
    "Following are the fixed values of C and H:\n",
    "C is 50. H is 30.\n",
    "D is the variable whose values should be input to your program in a comma-separated sequence.\n",
    "Example\n",
    "Let us assume the following comma separated input sequence is given to the program:\n",
    "100,150,180\n",
    "The output of the program should be:\n",
    "18,22,24\n"
   ]
  },
  {
   "cell_type": "code",
   "execution_count": 31,
   "id": "a1ba5e91",
   "metadata": {},
   "outputs": [
    {
     "name": "stdout",
     "output_type": "stream",
     "text": [
      "Enter numbers seperated by commna : 100,150,180\n",
      "18 22 24 "
     ]
    }
   ],
   "source": [
    "import math \n",
    "def cal(n,c,h):\n",
    "    return int(math.sqrt((2*c*int(n)/h))) \n",
    "\n",
    "n=input(\"Enter numbers seperated by commna : \")\n",
    "c,h=50,30\n",
    "l=n.split(\",\")\n",
    "for i in l:\n",
    "    print(cal(i,c,h),end=\" \")"
   ]
  },
  {
   "cell_type": "raw",
   "id": "ab6ccca0",
   "metadata": {},
   "source": [
    "Question 2:\n",
    "Write a program which takes 2 digits, X,Y as input and generates a 2-dimensional array. The element value in the i-th row and j-th column of the array should be i*j.\n",
    "Note: i=0,1.., X-1; j=0,1,¡¬Y-1.\n",
    "Example\n",
    "Suppose the following inputs are given to the program:\n",
    "3,5\n",
    "Then, the output of the program should be:\n",
    "[[0, 0, 0, 0, 0], [0, 1, 2, 3, 4], [0, 2, 4, 6, 8]] "
   ]
  },
  {
   "cell_type": "code",
   "execution_count": 32,
   "id": "b83869d9",
   "metadata": {},
   "outputs": [
    {
     "name": "stdout",
     "output_type": "stream",
     "text": [
      "Enter number of rows : 3\n",
      "Enter number of columns : 5\n",
      "[[0, 0, 0, 0, 0], [0, 1, 2, 3, 4], [0, 2, 4, 6, 8]]\n"
     ]
    }
   ],
   "source": [
    "def arr(i,j):\n",
    "    a=[[ii*jj for jj in range(j)] for ii in range(i)]\n",
    "    return a\n",
    "\n",
    "i=int(input(\"Enter number of rows : \"))\n",
    "j=int(input(\"Enter number of columns : \"))\n",
    "a=arr(i,j)\n",
    "print(a)"
   ]
  },
  {
   "cell_type": "markdown",
   "id": "834936ce",
   "metadata": {},
   "source": [
    "Question 3:\n",
    "Write a program that accepts a comma separated sequence of words as input and prints the words in a comma-separated sequence after sorting them alphabetically.\n",
    "Suppose the following input is supplied to the program:\n",
    "without,hello,bag,world\n",
    "Then, the output should be:\n",
    "bag,hello,without,world"
   ]
  },
  {
   "cell_type": "code",
   "execution_count": 35,
   "id": "d0916fb3",
   "metadata": {},
   "outputs": [
    {
     "name": "stdout",
     "output_type": "stream",
     "text": [
      "Enter words seperated by comma : they,teach,us,nothing\n",
      "nothing teach they us\n"
     ]
    }
   ],
   "source": [
    "def soralpha(s):\n",
    "    l=s.split(\",\")\n",
    "    l.sort()\n",
    "    l=\" \".join(l)\n",
    "    return l\n",
    "\n",
    "str=input(\"Enter words seperated by comma : \")\n",
    "res=soralpha(str)\n",
    "print(res)"
   ]
  },
  {
   "cell_type": "markdown",
   "id": "2a8d8064",
   "metadata": {},
   "source": [
    "\n",
    "Question 4:\n",
    "Write a program that accepts a sequence of whitespace separated words as input and prints the words after removing all duplicate words and sorting them alphanumerically.\n",
    "Suppose the following input is supplied to the program:\n",
    "hello world and practice makes perfect and hello world again\n",
    "Then, the output should be:\n",
    "again and hello makes perfect practice world"
   ]
  },
  {
   "cell_type": "code",
   "execution_count": 6,
   "id": "691c66b7",
   "metadata": {},
   "outputs": [
    {
     "name": "stdout",
     "output_type": "stream",
     "text": [
      "Enter words seperated by space : hwllo are you how are you\n",
      "are how hwllo you\n"
     ]
    }
   ],
   "source": [
    "def soralpha(s):\n",
    "    l=list(set(s.split(\" \")))\n",
    "    l.sort()\n",
    "    l=\" \".join(l)\n",
    "    return l\n",
    "\n",
    "str=input(\"Enter words seperated by space : \")\n",
    "res=soralpha(str)\n",
    "print(res)"
   ]
  },
  {
   "cell_type": "markdown",
   "id": "27bd3955",
   "metadata": {},
   "source": [
    "\n",
    "Question 5:\n",
    "Write a program that accepts a sentence and calculate the number of letters and digits.\n",
    "Suppose the following input is supplied to the program:\n",
    "hello world! 123\n",
    "Then, the output should be:\n",
    "LETTERS 10 \n",
    "DIGITS 3\n"
   ]
  },
  {
   "cell_type": "code",
   "execution_count": 44,
   "id": "0f224429",
   "metadata": {},
   "outputs": [
    {
     "name": "stdout",
     "output_type": "stream",
     "text": [
      "Enter a string : qwe@ty 67!ok 909090\n",
      "Letters :  7\n",
      "Digits :  8\n"
     ]
    }
   ],
   "source": [
    "def count(s):\n",
    "    punc = ''' !()-[]{};:'\"\\,<>./?@#$%^&*_~'''\n",
    "    digit=\"0123456789\"\n",
    "    icount,ccount=0,0\n",
    "    for i in s:\n",
    "        if i in digit:\n",
    "            icount+=1\n",
    "        elif i not in punc:\n",
    "            ccount+=1\n",
    "    print(\"Letters : \",ccount)\n",
    "    print(\"Digits : \",icount)\n",
    "    \n",
    "        \n",
    "str=input(\"Enter a string : \")\n",
    "count(str)"
   ]
  },
  {
   "cell_type": "markdown",
   "id": "874794f8",
   "metadata": {},
   "source": [
    "Question 6 : \n",
    "A website requires the users to input username and password to register. Write a program to check the validity of password input by users.\n",
    "Following are the criteria for checking the password:\n",
    "1. At least 1 letter between [a-z]\n",
    "2. At least 1 number between [0-9]\n",
    "1. At least 1 letter between [A-Z]\n",
    "3. At least 1 character from [$#@]\n",
    "4. Minimum length of transaction password: 6\n",
    "5. Maximum length of transaction password: 12\n",
    "Your program should accept a sequence of comma separated passwords and will check them according to the above criteria.Passwords that match the criteria are to be printed, each separated by a comma."
   ]
  },
  {
   "cell_type": "code",
   "execution_count": 13,
   "id": "7d3ddb92",
   "metadata": {},
   "outputs": [
    {
     "name": "stdout",
     "output_type": "stream",
     "text": [
      "Enter comma seperated passwords : AaBb123##,sar456#\n",
      "AaBb123##\n"
     ]
    }
   ],
   "source": [
    "import re\n",
    "def validate(pstr):\n",
    "    l=pstr.split(\",\")\n",
    "    for i in l:\n",
    "        if len(i)<6 or len(i)>12:\n",
    "            continue\n",
    "        elif not re.search(\"([a-z])+\",i):\n",
    "            continue\n",
    "        elif not re.search(\"([A-Z])+\",i):\n",
    "            continue\n",
    "        elif not re.search(\"([0-9])+\",i):\n",
    "            continue\n",
    "        elif not re.search(\"(['@','#','$'])+\",i):\n",
    "            continue\n",
    "        else: print(i)\n",
    "    \n",
    "pstr=input(\"Enter comma seperated passwords : \")\n",
    "validate(pstr)\n"
   ]
  },
  {
   "cell_type": "code",
   "execution_count": null,
   "id": "8c869f4a",
   "metadata": {},
   "outputs": [],
   "source": []
  }
 ],
 "metadata": {
  "kernelspec": {
   "display_name": "Python 3 (ipykernel)",
   "language": "python",
   "name": "python3"
  },
  "language_info": {
   "codemirror_mode": {
    "name": "ipython",
    "version": 3
   },
   "file_extension": ".py",
   "mimetype": "text/x-python",
   "name": "python",
   "nbconvert_exporter": "python",
   "pygments_lexer": "ipython3",
   "version": "3.9.7"
  }
 },
 "nbformat": 4,
 "nbformat_minor": 5
}
