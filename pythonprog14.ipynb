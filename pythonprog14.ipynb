{
 "cells": [
  {
   "cell_type": "raw",
   "id": "088d81be",
   "metadata": {},
   "source": [
    "Q1  Define a class with a generator which can iterate the numbers, which are divisible by\n",
    "7, between a given range 0 and n. "
   ]
  },
  {
   "cell_type": "code",
   "execution_count": 5,
   "id": "15dd8396",
   "metadata": {},
   "outputs": [
    {
     "name": "stdout",
     "output_type": "stream",
     "text": [
      "0\n",
      "7\n",
      "14\n",
      "21\n",
      "28\n",
      "35\n",
      "42\n",
      "49\n",
      "56\n",
      "63\n",
      "70\n"
     ]
    }
   ],
   "source": [
    "class Try:\n",
    "    def __init__(self):\n",
    "        pass\n",
    "    def gen(self,n):\n",
    "        self.n=n\n",
    "        for i in range(n+1):\n",
    "            if i%7==0:\n",
    "                yield i\n",
    "            \n",
    "obj=Try()\n",
    "#result=obj.gen(70)\n",
    "for i in obj.gen(70):\n",
    "    print(i)\n",
    "            "
   ]
  },
  {
   "cell_type": "markdown",
   "id": "b82a11f7",
   "metadata": {},
   "source": [
    "Question 2:\n",
    "Write a program to compute the frequency of the words from the input. The output\n",
    "should output after sorting the key alphanumerically."
   ]
  },
  {
   "cell_type": "code",
   "execution_count": 26,
   "id": "d3e862e4",
   "metadata": {},
   "outputs": [
    {
     "name": "stdout",
     "output_type": "stream",
     "text": [
      "Enter a string : New to Python or choosing between Python 2 and Python 3? Read Python 2 or Python 3.\n",
      "2  =  2\n",
      "3.  =  1\n",
      "3?  =  1\n",
      "and  =  1\n",
      "between  =  1\n",
      "choosing  =  1\n",
      "new  =  1\n",
      "or  =  2\n",
      "python  =  5\n",
      "read  =  1\n",
      "to  =  1\n"
     ]
    }
   ],
   "source": [
    "def countWords(s):\n",
    "    ss=s.lower()\n",
    "    words_list=ss.split(\" \")\n",
    "    words_list.sort() \n",
    "    sorted_list=[]\n",
    "    for j in words_list:\n",
    "        if j not in sorted_list:\n",
    "            sorted_list.append(j)\n",
    "    \n",
    "    for i in sorted_list:\n",
    "        print(i,\" = \",words_list.count(i))\n",
    "    \n",
    "s=input(\"Enter a string : \")\n",
    "countWords(s)"
   ]
  },
  {
   "cell_type": "markdown",
   "id": "b64bd8bb",
   "metadata": {},
   "source": []
  },
  {
   "cell_type": "markdown",
   "id": "d95c1a69",
   "metadata": {},
   "source": [
    "Question 3:\n",
    "\n",
    "Define a class Person and its two child classes: Male and Female. All classes have a\n",
    "method &quot;getGender&quot; which can print &quot;Male&quot; for Male class and &quot;Female&quot; for Female\n",
    "class."
   ]
  },
  {
   "cell_type": "code",
   "execution_count": 28,
   "id": "1c25a7c8",
   "metadata": {},
   "outputs": [
    {
     "name": "stdout",
     "output_type": "stream",
     "text": [
      "Male\n",
      "Female\n"
     ]
    }
   ],
   "source": [
    "class Person:\n",
    "    def __init__(self):\n",
    "        pass\n",
    "    def getGender(self):\n",
    "        pass\n",
    "    \n",
    "class Male(Person):\n",
    "    def getGender(self):\n",
    "        print(\"Male\")\n",
    "class Female(Person):\n",
    "    def getGender(self):\n",
    "        print(\"Female\")\n",
    "        \n",
    "male_obj=Male()\n",
    "female_obj=Female()\n",
    "male_obj.getGender()\n",
    "female_obj.getGender()\n"
   ]
  },
  {
   "cell_type": "code",
   "execution_count": null,
   "id": "0c4a3270",
   "metadata": {},
   "outputs": [],
   "source": []
  },
  {
   "cell_type": "markdown",
   "id": "192ab160",
   "metadata": {},
   "source": [
    "Question 4:\n",
    "Please write a program to generate all sentences where subject is in [&quot;I&quot;, &quot;You&quot;] and\n",
    "verb is in [&quot;Play&quot;, &quot;Love&quot;] and the object is in [&quot;Hockey&quot;,&quot;Football&quot;]."
   ]
  },
  {
   "cell_type": "code",
   "execution_count": 29,
   "id": "f1b49680",
   "metadata": {},
   "outputs": [
    {
     "name": "stdout",
     "output_type": "stream",
     "text": [
      "I   Play   Hockey\n",
      "I   Play   Football\n",
      "I   Love   Hockey\n",
      "I   Love   Football\n",
      "You   Play   Hockey\n",
      "You   Play   Football\n",
      "You   Love   Hockey\n",
      "You   Love   Football\n"
     ]
    }
   ],
   "source": [
    "l1=['I','You']\n",
    "l2=['Play',\"Love\"]\n",
    "l3=['Hockey','Football']\n",
    "for i in l1:\n",
    "    for j in l2:\n",
    "        for k in l3:\n",
    "            print(i,\" \",j,\" \",k)"
   ]
  },
  {
   "cell_type": "code",
   "execution_count": null,
   "id": "af0b26eb",
   "metadata": {},
   "outputs": [],
   "source": []
  },
  {
   "cell_type": "markdown",
   "id": "0a61d8ec",
   "metadata": {},
   "source": [
    "Question 5:\n",
    "Please write a program to compress and decompress the string &quot;hello world!hello\n",
    "world!hello world!hello world!&quot;."
   ]
  },
  {
   "cell_type": "code",
   "execution_count": 24,
   "id": "fa9a056b",
   "metadata": {},
   "outputs": [
    {
     "name": "stdout",
     "output_type": "stream",
     "text": [
      "b'x\\x9c\\xcbH\\xcd\\xc9\\xc9W(\\xcf/\\xcaIQ\\xcc \\x82\\r\\x00\\xbd[\\x11\\xf5'\n",
      "b'hello world!hello world!hello world!hello world!'\n"
     ]
    }
   ],
   "source": [
    "import zlib\n",
    "\n",
    "def compress():\n",
    "    print(zlib.compress(n))\n",
    "    \n",
    "    \n",
    "def decompress():\n",
    "    print(zlib.decompress(t))\n",
    "    \n",
    "\n",
    "global n\n",
    "n=\"hello world!hello world!hello world!hello world!\"\n",
    "n=bytes(n,'utf-8') #zlib works with bytes therefore we convert string to bytes\n",
    "compress()\n",
    "decompress()"
   ]
  },
  {
   "cell_type": "code",
   "execution_count": null,
   "id": "c4829766",
   "metadata": {},
   "outputs": [],
   "source": []
  }
 ],
 "metadata": {
  "kernelspec": {
   "display_name": "Python 3 (ipykernel)",
   "language": "python",
   "name": "python3"
  },
  "language_info": {
   "codemirror_mode": {
    "name": "ipython",
    "version": 3
   },
   "file_extension": ".py",
   "mimetype": "text/x-python",
   "name": "python",
   "nbconvert_exporter": "python",
   "pygments_lexer": "ipython3",
   "version": "3.9.12"
  }
 },
 "nbformat": 4,
 "nbformat_minor": 5
}
