{
 "cells": [
  {
   "cell_type": "code",
   "execution_count": 3,
   "id": "4e60cc4c",
   "metadata": {},
   "outputs": [
    {
     "name": "stdout",
     "output_type": "stream",
     "text": [
      "Enter a  number : 5\n",
      "Factorial : 120\n"
     ]
    }
   ],
   "source": [
    "# 1.\tWrite a Python Program to Find the Factorial of a Number?\n",
    "\n",
    "n=int(input(\"Enter a  number : \"))\n",
    "fact=1\n",
    "if n>1:\n",
    "    for i in range(1,n+1):\n",
    "        fact=fact*i\n",
    "print(\"Factorial : {}\".format(fact))"
   ]
  },
  {
   "cell_type": "code",
   "execution_count": 7,
   "id": "099c1efc",
   "metadata": {},
   "outputs": [
    {
     "name": "stdout",
     "output_type": "stream",
     "text": [
      "Enter the number you want to print table of : 2\n",
      "2 X 1 = 2\n",
      "2 X 2 = 4\n",
      "2 X 3 = 6\n",
      "2 X 4 = 8\n",
      "2 X 5 = 10\n",
      "2 X 6 = 12\n",
      "2 X 7 = 14\n",
      "2 X 8 = 16\n",
      "2 X 9 = 18\n",
      "2 X 10 = 20\n"
     ]
    }
   ],
   "source": [
    "# 2.\tWrite a Python Program to Display the multiplication Table?\n",
    "\n",
    "n=int(input(\"Enter the number you want to print table of : \"))\n",
    "for i in range(1,11):\n",
    "    print(\"{} X {} = {}\".format(n,i,n*i))"
   ]
  },
  {
   "cell_type": "code",
   "execution_count": 12,
   "id": "8874dd8f",
   "metadata": {},
   "outputs": [
    {
     "name": "stdout",
     "output_type": "stream",
     "text": [
      "How many terms you want : 8\n",
      "0\n",
      "1\n",
      "1\n",
      "2\n",
      "3\n",
      "5\n",
      "8\n",
      "13\n"
     ]
    }
   ],
   "source": [
    "# 3.\tWrite a Python Program to Print the Fibonacci sequence?\n",
    "n=int(input(\"How many terms you want : \"))\n",
    "n1,n2=0,1\n",
    "count=0\n",
    "if n<=0:\n",
    "    print(\"Enter positive value!\")\n",
    "elif n==1:\n",
    "    print(n)\n",
    "else:\n",
    "    while count<n:\n",
    "        print(n1)\n",
    "        n3=n1+n2\n",
    "        n1=n2\n",
    "        n2=n3\n",
    "        count=count+1"
   ]
  },
  {
   "cell_type": "code",
   "execution_count": 32,
   "id": "0e0e2887",
   "metadata": {},
   "outputs": [
    {
     "name": "stdout",
     "output_type": "stream",
     "text": [
      "Enter the numbet to check : 2\n",
      "Armstrong No\n"
     ]
    }
   ],
   "source": [
    "# 4.\tWrite a Python Program to Check Armstrong Number?\n",
    "\n",
    "n=int(input(\"Enter the numbet to check : \"))\n",
    "sum=0\n",
    "temp=n\n",
    "order=len(str(n))\n",
    "\n",
    "while temp>0:\n",
    "    sum=sum + (temp%10)**order\n",
    "    temp=temp//10\n",
    "if n==sum:\n",
    "    print(\"Armstrong No\")\n",
    "else:\n",
    "    print(\"Not Armstrong No\")\n",
    "    \n",
    "    "
   ]
  },
  {
   "cell_type": "code",
   "execution_count": 44,
   "id": "1e2c290d",
   "metadata": {},
   "outputs": [
    {
     "name": "stdout",
     "output_type": "stream",
     "text": [
      "Enter the Lower Limit : 1\n",
      "Enter the Upper Limit : 10\n",
      "Armstrong number in the interval are : \n",
      "1\n",
      "2\n",
      "3\n",
      "4\n",
      "5\n",
      "6\n",
      "7\n",
      "8\n",
      "9\n"
     ]
    }
   ],
   "source": [
    "# 5.\tWrite a Python Program to Find Armstrong Number in an Interval?\n",
    "\n",
    "lowerlimit=int(input(\"Enter the Lower Limit : \"))\n",
    "upperlimit=int(input(\"Enter the Upper Limit : \"))\n",
    "print(\"Armstrong number in the interval are : \")\n",
    "for i in range(lowerlimit,upperlimit+1):\n",
    "    order=len(str(i))\n",
    "    temp=i\n",
    "    sum=0\n",
    "    while temp>0:\n",
    "        sum=sum + (temp%10)**order\n",
    "        temp=temp//10\n",
    "    if i==sum:\n",
    "        print(i)"
   ]
  },
  {
   "cell_type": "code",
   "execution_count": 49,
   "id": "ba894de1",
   "metadata": {},
   "outputs": [
    {
     "name": "stdout",
     "output_type": "stream",
     "text": [
      "Enter the no upto which you want the sum : 10\n",
      "55.0\n"
     ]
    }
   ],
   "source": [
    "# 6.\tWrite a Python Program to Find the Sum of Natural Numbers?\n",
    "\n",
    "n=int(input(\"Enter the no upto which you want the sum : \"))\n",
    "print((n*(n+1))/2)\n"
   ]
  },
  {
   "cell_type": "code",
   "execution_count": null,
   "id": "12c99577",
   "metadata": {},
   "outputs": [],
   "source": []
  }
 ],
 "metadata": {
  "kernelspec": {
   "display_name": "Python 3 (ipykernel)",
   "language": "python",
   "name": "python3"
  },
  "language_info": {
   "codemirror_mode": {
    "name": "ipython",
    "version": 3
   },
   "file_extension": ".py",
   "mimetype": "text/x-python",
   "name": "python",
   "nbconvert_exporter": "python",
   "pygments_lexer": "ipython3",
   "version": "3.9.7"
  }
 },
 "nbformat": 4,
 "nbformat_minor": 5
}
