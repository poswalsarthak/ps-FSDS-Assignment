{
 "cells": [
  {
   "cell_type": "code",
   "execution_count": 6,
   "id": "b465b902",
   "metadata": {},
   "outputs": [
    {
     "name": "stdout",
     "output_type": "stream",
     "text": [
      "Enter how many terms you want to print5\n",
      "0\n",
      "1\n",
      "1\n",
      "2\n",
      "3\n"
     ]
    }
   ],
   "source": [
    "# 1.\tWrite a Python Program to Display Fibonacci Sequence Using Recursion?\n",
    "\n",
    "def fib(n1,n2,n):\n",
    "    if n>0:\n",
    "        nxt=n1+n2\n",
    "        print(nxt)\n",
    "        fib(n2,nxt,n-1)\n",
    "        \n",
    "n=int(input(\"Enter how many terms you want to print\"))\n",
    "n1,n2=0,1\n",
    "print(\"0\")\n",
    "print(\"1\")\n",
    "fib(n1,n2,n-2)\n"
   ]
  },
  {
   "cell_type": "code",
   "execution_count": 1,
   "id": "2b83fe6c",
   "metadata": {},
   "outputs": [
    {
     "name": "stdout",
     "output_type": "stream",
     "text": [
      "Enter the number : 5\n",
      "Factorial is :  120\n"
     ]
    }
   ],
   "source": [
    "#2.\tWrite a Python Program to Find Factorial of Number Using Recursion?\n",
    "\n",
    "def fact(n):\n",
    "    if n==0 or n==1:\n",
    "        return 1\n",
    "    else: \n",
    "        return n*fact(n-1)\n",
    "n=int(input(\"Enter the number : \"))\n",
    "print(\"Factorial is : \",fact(n))\n"
   ]
  },
  {
   "cell_type": "code",
   "execution_count": 6,
   "id": "3dbd6d75",
   "metadata": {},
   "outputs": [
    {
     "name": "stdout",
     "output_type": "stream",
     "text": [
      "Enter your weitht in KG : 75\n",
      "Enter your height in meter : 1.75\n",
      "Your BMI is :  24.489795918367346\n"
     ]
    }
   ],
   "source": [
    "# 3.\tWrite a Python Program to calculate your Body Mass Index?\n",
    "weight=float(input(\"Enter your weitht in KG : \"))\n",
    "height=float(input(\"Enter your height in meter : \"))\n",
    "print(\"Your BMI is : \",weight/height**2)"
   ]
  },
  {
   "cell_type": "code",
   "execution_count": 8,
   "id": "c0204eb2",
   "metadata": {},
   "outputs": [
    {
     "name": "stdout",
     "output_type": "stream",
     "text": [
      "Enter the number of which you have to calculate the log : 56.32\n",
      "Log of  56.32  is :  4.0310497118497866\n"
     ]
    }
   ],
   "source": [
    "# 4.\tWrite a Python Program to calculate the natural logarithm of any number?\n",
    "\n",
    "import math\n",
    "n=float(input(\"Enter the number of which you have to calculate the log : \"))\n",
    "print(\"Log of \",n,\" is : \",math.log(n))"
   ]
  },
  {
   "cell_type": "code",
   "execution_count": 9,
   "id": "eeef623b",
   "metadata": {},
   "outputs": [
    {
     "name": "stdout",
     "output_type": "stream",
     "text": [
      "Enter the number upto whose cube you want the sum : 3\n",
      "Sum :  36.0\n"
     ]
    }
   ],
   "source": [
    "# 5.\tWrite a Python Program for cube sum of first n natural numbers?\n",
    "\n",
    "n=int(input(\"Enter the number upto whose cube you want the sum : \"))\n",
    "print(\"Sum : \",(n**2*(n+1)**2)/4)\n",
    "\n"
   ]
  },
  {
   "cell_type": "code",
   "execution_count": null,
   "id": "7cadfbd9",
   "metadata": {},
   "outputs": [],
   "source": []
  }
 ],
 "metadata": {
  "kernelspec": {
   "display_name": "Python 3 (ipykernel)",
   "language": "python",
   "name": "python3"
  },
  "language_info": {
   "codemirror_mode": {
    "name": "ipython",
    "version": 3
   },
   "file_extension": ".py",
   "mimetype": "text/x-python",
   "name": "python",
   "nbconvert_exporter": "python",
   "pygments_lexer": "ipython3",
   "version": "3.9.7"
  }
 },
 "nbformat": 4,
 "nbformat_minor": 5
}
