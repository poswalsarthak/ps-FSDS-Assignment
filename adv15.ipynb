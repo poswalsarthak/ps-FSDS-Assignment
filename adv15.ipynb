{
 "cells": [
  {
   "cell_type": "markdown",
   "id": "acfbbabb",
   "metadata": {},
   "source": [
    "1. Write a function that returns True if a given name can generate an array of words.\n",
    "\n",
    "Examples\n",
    "\n",
    "anagram(\"Justin Bieber\", [\"injures\", \"ebb\", \"it\"]) ➞ True\n",
    "\n",
    "anagram(\"Natalie Portman\", [\"ornamental\", \"pita\"]) ➞ True\n",
    "\n",
    "anagram(\"Chris Pratt\", [\"chirps\", \"rat\"]) ➞ False\n",
    " Not all letters are used\n",
    "\n",
    "anagram(\"Jeff Goldblum\", [\"jog\", \"meld\", \"bluffs\"]) ➞ False\n",
    "\"s\" does not exist in the original name\n"
   ]
  },
  {
   "cell_type": "code",
   "execution_count": 13,
   "id": "7220b739",
   "metadata": {},
   "outputs": [
    {
     "name": "stdout",
     "output_type": "stream",
     "text": [
      "True\n",
      "True\n",
      "False\n"
     ]
    }
   ],
   "source": [
    "def anagram(string,array):\n",
    "    string=list(string.lower())\n",
    "    if \" \" in string: string.remove(\" \")\n",
    "    words=list(\"\".join(array))\n",
    "    if len(string)!=len(words): \n",
    "        return False\n",
    "    else:\n",
    "        for i in words : \n",
    "            if i not in string : \n",
    "                print(\"else block\")\n",
    "                return False\n",
    "    return True\n",
    "  \n",
    "res=anagram(\"Justin Bieber\", [\"injures\", \"ebb\", \"it\"]) \n",
    "print(res)\n",
    "res=anagram(\"Natalie Portman\", [\"ornamental\", \"pita\"])\n",
    "print(res)\n",
    "res=anagram(\"Chris Pratt\", [\"chirps\", \"rat\"])\n",
    "print(res)"
   ]
  },
  {
   "cell_type": "code",
   "execution_count": null,
   "id": "3b385520",
   "metadata": {},
   "outputs": [],
   "source": []
  },
  {
   "cell_type": "markdown",
   "id": "fdac56cc",
   "metadata": {},
   "source": [
    "2. Given an array of users, each defined by an object with the following properties: name, score, reputation create a function that sorts the array to form the correct leaderboard.\n",
    "\n",
    "The leaderboard takes into consideration the score of each user of course, but an emphasis is put on their reputation in the community, so to get the trueScore, you should add the reputation multiplied by 2 to the score.\n",
    "\n",
    "Once you know the trueScore of each user, sort the array according to it in descending order.\n",
    "\n",
    "Examples\n",
    "\n",
    "leaderboards([\n",
    "  { \"name\": \"a\", \"score\": 100, \"reputation\": 20 },\n",
    "  { \"name\": \"b\", \"score\": 90, \"reputation\": 40 },\n",
    "  { \"name\": \"c\", \"score\": 115, \"reputation\": 30 },\n",
    "]) ➞ [\n",
    "  { \"name\": \"c\", \"score\": 115, \"reputation\": 30 },  # trueScore = 175\n",
    "  { \"name\": \"b\", \"score\": 90, \"reputation\": 40 },   # trueScore = 170\n",
    "  { \"name\": \"a\", \"score\": 100, \"reputation\": 20 }   # trueScore = 140\n",
    "]\n"
   ]
  },
  {
   "cell_type": "code",
   "execution_count": 14,
   "id": "4da0a984",
   "metadata": {},
   "outputs": [
    {
     "name": "stdout",
     "output_type": "stream",
     "text": [
      "{'name': 'c', 'score': 115, 'reputation': 30}\n",
      "{'name': 'b', 'score': 90, 'reputation': 40}\n",
      "{'name': 'a', 'score': 100, 'reputation': 20}\n"
     ]
    }
   ],
   "source": [
    "def leaderboards(lst):\n",
    "    d={}\n",
    "    for i in lst:\n",
    "        d[(i['score']+i['reputation']*2)] = lst.index(i)\n",
    "    d=dict(sorted(d.items(),reverse=True))\n",
    "    for i in d.keys():\n",
    "        print((lst[d[i]]))\n",
    "        \n",
    "leaderboards([ { \"name\": \"a\", \"score\": 100, \"reputation\": 20 }, \n",
    "              { \"name\": \"b\", \"score\": 90, \"reputation\": 40 }, \n",
    "              { \"name\": \"c\", \"score\": 115, \"reputation\": 30 }, ])"
   ]
  },
  {
   "cell_type": "code",
   "execution_count": null,
   "id": "c07cce4e",
   "metadata": {},
   "outputs": [],
   "source": []
  },
  {
   "cell_type": "markdown",
   "id": "39869194",
   "metadata": {},
   "source": [
    "3. Create a function that, given a phrase and a number of letters guessed, returns a string with hyphens - for every letter of the phrase not guessed, and each letter guessed in place.\n",
    "\n",
    "Examples\n",
    "\n",
    "hangman(\"helicopter\", [\"o\", \"e\", \"s\"]) ➞ \"-e---o--e-\"\n",
    "\n",
    "hangman(\"tree\", [\"r\", \"t\", \"e\"]) ➞ \"tree\"\n",
    "\n",
    "hangman(\"Python rules\", [\"a\", \"n\", \"p\", \"r\", \"z\"]) ➞ \"P----n r----\"\n",
    "\n",
    "hangman(\"He\"s a very naughty boy!\", [\"e\", \"a\", \"y\"]) ➞ \"-e\"- a -e-y -a----y –y!\"\n"
   ]
  },
  {
   "cell_type": "code",
   "execution_count": 20,
   "id": "6dd4c71e",
   "metadata": {},
   "outputs": [
    {
     "name": "stdout",
     "output_type": "stream",
     "text": [
      "-e---o--e-\n",
      "P----n r----\n"
     ]
    }
   ],
   "source": [
    "def hangman(string,lst):\n",
    "    res=''\n",
    "    for i in string:\n",
    "        if i.lower()  in lst or i.upper() in lst or i==\" \": res+=i\n",
    "        else : res+='-'\n",
    "    return res\n",
    "res=hangman(\"helicopter\", [\"o\", \"e\", \"s\"]) \n",
    "print(res)\n",
    "res=hangman(\"Python rules\", [\"a\", \"n\", \"p\", \"r\", \"z\"])\n",
    "print(res)"
   ]
  },
  {
   "cell_type": "code",
   "execution_count": null,
   "id": "b04e027d",
   "metadata": {},
   "outputs": [],
   "source": []
  },
  {
   "cell_type": "markdown",
   "id": "ece8710e",
   "metadata": {},
   "source": [
    "4. The Collatz sequence is as follows:\n",
    "\n",
    "  - Start with some given integer n.\n",
    "  - If it is even, the next number will be n divided by 2.\n",
    "  - If it is odd, multiply it by 3 and add 1 to make the next number.\n",
    "  - The sequence stops when it reaches 1.\n",
    "\n",
    "According to the Collatz conjecture, it will always reach 1. If that's true, you can construct a finite sequence following the aforementioned method for any given integer.\n",
    "\n",
    "Write a function that takes in an integer n and returns the highest integer in the corresponding Collatz sequence.\n",
    "\n",
    "Examples\n",
    "\n",
    "max_collatz(10) ➞ 16\n",
    " Collatz sequence: 10, 5, 16, 8, 4, 2, 1\n",
    "\n",
    "max_collatz(32) ➞ 32\n",
    " Collatz sequence: 32, 16, 8, 4, 2, 1\n",
    "\n",
    "max_collatz(85) ➞ 256\n",
    " Collatz sequence: 85, 256, 128, 64, 32, 16, 8, 4, 2, 1\n"
   ]
  },
  {
   "cell_type": "code",
   "execution_count": 5,
   "id": "a5d9add3",
   "metadata": {},
   "outputs": [
    {
     "name": "stdout",
     "output_type": "stream",
     "text": [
      "16\n",
      "32\n",
      "256\n"
     ]
    }
   ],
   "source": [
    "def max_collatz(n):\n",
    "    l=[]\n",
    "    while n!=1:\n",
    "        l.append(n)\n",
    "        if n%2==0 : n//=2\n",
    "        else : n=n*3 + 1\n",
    "    return max(l)\n",
    "        \n",
    "res=max_collatz(10)\n",
    "print(res)\n",
    "res=max_collatz(32)\n",
    "print(res)\n",
    "res=max_collatz(85)\n",
    "print(res)"
   ]
  },
  {
   "cell_type": "code",
   "execution_count": null,
   "id": "4909ca3d",
   "metadata": {},
   "outputs": [],
   "source": []
  },
  {
   "cell_type": "markdown",
   "id": "3a5d5a4f",
   "metadata": {},
   "source": [
    "5. Write a function that sorts a list of integers by their digit length in descending order, then settles ties by sorting numbers with the same digit length in ascending order.\n",
    "\n",
    "Examples\n",
    "\n",
    "digit_sort([77, 23, 5, 7, 101])\n",
    "➞ [101, 23, 77, 5, 7]\n",
    "\n",
    "digit_sort([1, 5, 9, 2, 789, 563, 444])\n",
    "➞ [444, 563, 789, 1, 2, 5, 9]\n",
    "\n",
    "digit_sort([53219, 3772, 564, 32, 1])\n",
    "➞ [53219, 3772, 564, 32, 1]\n"
   ]
  },
  {
   "cell_type": "code",
   "execution_count": 4,
   "id": "bd2668b4",
   "metadata": {},
   "outputs": [
    {
     "name": "stdout",
     "output_type": "stream",
     "text": [
      "[101, 23, 77, 5, 7]\n",
      "[444, 563, 789, 1, 2, 5, 9]\n",
      "[53219, 3772, 564, 32, 1]\n"
     ]
    }
   ],
   "source": [
    "def digit_sort(lst):\n",
    "    temp=[]\n",
    "    res=[]\n",
    "    while len(lst)>0 :\n",
    "        max_len=len(str(max(lst)))\n",
    "        for i in lst:\n",
    "            if len(str(i)) == max_len :\n",
    "                temp.append(i)\n",
    "        for i in temp:\n",
    "            lst.remove(i)\n",
    "        temp.sort()\n",
    "        res.extend(temp)\n",
    "        temp=[]\n",
    "    return res\n",
    "\n",
    "res=digit_sort([77, 23, 5, 7, 101])\n",
    "print(res)\n",
    "res=digit_sort([1, 5, 9, 2, 789, 563, 444])\n",
    "print(res)\n",
    "res=digit_sort([53219, 3772, 564, 32, 1])\n",
    "print(res)"
   ]
  },
  {
   "cell_type": "code",
   "execution_count": null,
   "id": "df2282db",
   "metadata": {},
   "outputs": [],
   "source": []
  }
 ],
 "metadata": {
  "kernelspec": {
   "display_name": "Python 3 (ipykernel)",
   "language": "python",
   "name": "python3"
  },
  "language_info": {
   "codemirror_mode": {
    "name": "ipython",
    "version": 3
   },
   "file_extension": ".py",
   "mimetype": "text/x-python",
   "name": "python",
   "nbconvert_exporter": "python",
   "pygments_lexer": "ipython3",
   "version": "3.9.12"
  }
 },
 "nbformat": 4,
 "nbformat_minor": 5
}
