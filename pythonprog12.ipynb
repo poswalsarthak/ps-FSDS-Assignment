{
 "cells": [
  {
   "cell_type": "code",
   "execution_count": 8,
   "id": "20732b88",
   "metadata": {},
   "outputs": [
    {
     "name": "stdout",
     "output_type": "stream",
     "text": [
      "[5, 6, 7, 8, 10, 11, 7, 5, 6, 12, 10, 8, 1, 2, 5]\n",
      "{1, 2, 5, 6, 7, 8, 10, 11, 12}\n"
     ]
    }
   ],
   "source": [
    "# 1.\tWrite a Python program to Extract Unique values dictionary values?\n",
    "\n",
    "test_dict = {'gfg' : [5, 6, 7, 8],\n",
    "             'is' : [10, 11, 7, 5],\n",
    "             'best' : [6, 12, 10, 8],\n",
    "             'for' : [1, 2, 5]}\n",
    "l=[j for i in test_dict.values() for j in i]\n",
    "s=set(l)\n",
    "print(s)"
   ]
  },
  {
   "cell_type": "code",
   "execution_count": 1,
   "id": "39f389eb",
   "metadata": {},
   "outputs": [
    {
     "name": "stdout",
     "output_type": "stream",
     "text": [
      "103\n"
     ]
    }
   ],
   "source": [
    "# 2.\tWrite a Python program to find the sum of all items in a dictionary?\n",
    "\n",
    "test_dict = {'gfg' : [5, 6, 7, 8],\n",
    "             'is' : [10, 11, 7, 5],\n",
    "             'best' : [6, 12, 10, 8],\n",
    "             'for' : [1, 2, 5]}\n",
    "l=[j for i in test_dict.values() for j in i]\n",
    "s=sum(l)\n",
    "print(s)\n"
   ]
  },
  {
   "cell_type": "code",
   "execution_count": 2,
   "id": "d0fcb9c2",
   "metadata": {},
   "outputs": [
    {
     "name": "stdout",
     "output_type": "stream",
     "text": [
      "{'gfg': [5, 6, 7, 8], 'is': [10, 11, 7, 5], 'best': [6, 12, 10, 8], 'for': [1, 2, 5]}\n"
     ]
    }
   ],
   "source": [
    "# 3.\tWrite a Python program to Merging two Dictionaries?\n",
    "\n",
    "def dmerge(d1,d2):\n",
    "    return d1|d2\n",
    "\n",
    "\n",
    "d1 = {'gfg' : [5, 6, 7, 8],\n",
    "      'is' : [10, 11, 7, 5]}\n",
    "\n",
    "d2= {'best' : [6, 12, 10, 8],\n",
    "     'for' : [1, 2, 5]}\n",
    "d3=dmerge(d1,d2)\n",
    "print(d3)"
   ]
  },
  {
   "cell_type": "code",
   "execution_count": 5,
   "id": "ec084fd8",
   "metadata": {},
   "outputs": [
    {
     "name": "stdout",
     "output_type": "stream",
     "text": [
      "{'a': 1, 'b': 2, 'c': 3}\n"
     ]
    }
   ],
   "source": [
    "# 4.\tWrite a Python program to convert key-values list to flat dictionary?\n",
    "\n",
    "d1={'Alpha':['a','b','c'],'num':[1,2,3]}\n",
    "d3=dict(zip(d1['Alpha'],d1['num']))\n",
    "print(d3)"
   ]
  },
  {
   "cell_type": "code",
   "execution_count": 2,
   "id": "1c3e4923",
   "metadata": {},
   "outputs": [
    {
     "name": "stdout",
     "output_type": "stream",
     "text": [
      "OrderedDict([('e', 5), ('a', 1), ('c', 2), ('b', 3)])\n"
     ]
    }
   ],
   "source": [
    "# 5.\tWrite a Python program to insertion at the beginning in OrderedDict?\n",
    "\n",
    "from collections import OrderedDict\n",
    "\n",
    "d1=OrderedDict({'a': 1, 'c': 2, 'b': 3})\n",
    "d1.update({'e':5})\n",
    "d1.move_to_end('e',last=False)\n",
    "\n",
    "print(d1)"
   ]
  },
  {
   "cell_type": "code",
   "execution_count": 21,
   "id": "81363980",
   "metadata": {},
   "outputs": [
    {
     "name": "stdout",
     "output_type": "stream",
     "text": [
      "Enter a string to be checked : errty\n",
      "Enter the pattern : er\n"
     ]
    },
    {
     "data": {
      "text/plain": [
       "True"
      ]
     },
     "execution_count": 21,
     "metadata": {},
     "output_type": "execute_result"
    }
   ],
   "source": [
    "# 6.\tWrite a Python program to check order of character in string using OrderedDict()?\n",
    "from collections import OrderedDict\n",
    "\n",
    "def decchk(s,pattern):\n",
    "    d=OrderedDict.fromkeys(s)\n",
    "    ptrlen=0\n",
    "    for key,value in d.items():\n",
    "        if key==pattern[ptrlen]:\n",
    "            ptrlen+=1\n",
    "        if ptrlen==len(pattern):\n",
    "            return True\n",
    "    return False\n",
    "    \n",
    "s=input(\"Enter a string to be checked : \")\n",
    "pattern=input(\"Enter the pattern : \")\n",
    "decchk(s,pattern)"
   ]
  },
  {
   "cell_type": "code",
   "execution_count": 3,
   "id": "0c0046cf",
   "metadata": {},
   "outputs": [
    {
     "name": "stdout",
     "output_type": "stream",
     "text": [
      "a  :  1\n",
      "b  :  2\n",
      "c  :  3\n",
      "d  :  4\n",
      "e  :  5\n"
     ]
    }
   ],
   "source": [
    "#7.\tWrite a Python program to sort Python Dictionaries by Key or Value?\n",
    "d={'c':3,'e':5,'a':1,'b':2,'d':4}\n",
    "d1=sorted(d)\n",
    "for i in d1:\n",
    "    print(i,\" : \",d[i])"
   ]
  }
 ],
 "metadata": {
  "kernelspec": {
   "display_name": "Python 3 (ipykernel)",
   "language": "python",
   "name": "python3"
  },
  "language_info": {
   "codemirror_mode": {
    "name": "ipython",
    "version": 3
   },
   "file_extension": ".py",
   "mimetype": "text/x-python",
   "name": "python",
   "nbconvert_exporter": "python",
   "pygments_lexer": "ipython3",
   "version": "3.9.7"
  }
 },
 "nbformat": 4,
 "nbformat_minor": 5
}
