{
 "cells": [
  {
   "cell_type": "code",
   "execution_count": 1,
   "id": "6c7788c1",
   "metadata": {},
   "outputs": [
    {
     "name": "stdout",
     "output_type": "stream",
     "text": [
      "6\n"
     ]
    }
   ],
   "source": [
    "# 1.\tWrite a Python program to find sum of elements in list?\n",
    "l=[1,2,3]\n",
    "print(sum(l))"
   ]
  },
  {
   "cell_type": "code",
   "execution_count": 5,
   "id": "d75adf5d",
   "metadata": {},
   "outputs": [
    {
     "name": "stdout",
     "output_type": "stream",
     "text": [
      "24\n"
     ]
    }
   ],
   "source": [
    "# 2.\tWrite a Python program to  Multiply all numbers in the list?\n",
    "\n",
    "l=[1,2,3,4]\n",
    "mul=1\n",
    "for i in l:\n",
    "    mul*=i\n",
    "print(mul)"
   ]
  },
  {
   "cell_type": "code",
   "execution_count": 7,
   "id": "27c2eb82",
   "metadata": {},
   "outputs": [
    {
     "name": "stdout",
     "output_type": "stream",
     "text": [
      "1\n"
     ]
    }
   ],
   "source": [
    "# 3.\tWrite a Python program to find smallest number in a list?\n",
    "l=[1,2,3,4]\n",
    "print(min(l))"
   ]
  },
  {
   "cell_type": "code",
   "execution_count": 8,
   "id": "56683f5a",
   "metadata": {},
   "outputs": [
    {
     "name": "stdout",
     "output_type": "stream",
     "text": [
      "4\n"
     ]
    }
   ],
   "source": [
    "# 4.\tWrite a Python program to find largest number in a list?\n",
    "l=[1,2,3,4]\n",
    "print(max(l))"
   ]
  },
  {
   "cell_type": "code",
   "execution_count": 10,
   "id": "f6768d66",
   "metadata": {},
   "outputs": [
    {
     "name": "stdout",
     "output_type": "stream",
     "text": [
      "9\n"
     ]
    }
   ],
   "source": [
    "# 5.\tWrite a Python program to find second largest number in a list?\n",
    "\n",
    "l=[1,2,3,4,9,33]\n",
    "l.sort()\n",
    "print(l[-2])"
   ]
  },
  {
   "cell_type": "code",
   "execution_count": 16,
   "id": "81de4b2d",
   "metadata": {},
   "outputs": [
    {
     "name": "stdout",
     "output_type": "stream",
     "text": [
      "Enter how many largest number you want : 2\n",
      "[44, 55]\n"
     ]
    }
   ],
   "source": [
    "#6.\tWrite a Python program to find N largest elements from a list?\n",
    "\n",
    "n=int(input(\"Enter how many largest number you want : \"))\n",
    "l=[1,2,3,4,9,33,55,44,11]\n",
    "l.sort()\n",
    "print(l[-n::])\n"
   ]
  },
  {
   "cell_type": "code",
   "execution_count": 17,
   "id": "485507e9",
   "metadata": {},
   "outputs": [
    {
     "name": "stdout",
     "output_type": "stream",
     "text": [
      "2\n",
      "4\n",
      "44\n"
     ]
    }
   ],
   "source": [
    "# 7.\tWrite a Python program to print even numbers in a list?\n",
    "\n",
    "l=[1,2,3,4,9,33,55,44,11]\n",
    "for i in l:\n",
    "    if i%2==0:\n",
    "        print(i)"
   ]
  },
  {
   "cell_type": "code",
   "execution_count": 18,
   "id": "8867784d",
   "metadata": {},
   "outputs": [
    {
     "name": "stdout",
     "output_type": "stream",
     "text": [
      "1\n",
      "3\n",
      "9\n",
      "33\n",
      "55\n",
      "11\n"
     ]
    }
   ],
   "source": [
    "# 8.\tWrite a Python program to print odd numbers in a List?\n",
    "\n",
    "l=[1,2,3,4,9,33,55,44,11]\n",
    "for i in l:\n",
    "    if i%2!=0:\n",
    "        print(i)"
   ]
  },
  {
   "cell_type": "code",
   "execution_count": 20,
   "id": "80d4c35b",
   "metadata": {},
   "outputs": [
    {
     "name": "stdout",
     "output_type": "stream",
     "text": [
      "[1, 2, 3, 4, 9, 33, 55, 44, 11, [7, 8]]\n"
     ]
    }
   ],
   "source": [
    "# 9.\tWrite a Python program to Remove empty List from List?\n",
    "\n",
    "l=[1,2,3,4,9,33,55,44,11,[],[7,8]]\n",
    "for i in l:\n",
    "    if type(i)==list and len(i)==0:\n",
    "        l.remove(i)\n",
    "print(l)\n",
    "        \n"
   ]
  },
  {
   "cell_type": "code",
   "execution_count": 21,
   "id": "e4ca2cc8",
   "metadata": {},
   "outputs": [
    {
     "name": "stdout",
     "output_type": "stream",
     "text": [
      "[1, 2, 3, 4, 9, 33, 55, 44, 11, [], [7, 8]]\n"
     ]
    }
   ],
   "source": [
    "# 10.\tWrite a Python program to Cloning or Copying a list?\n",
    "\n",
    "l=[1,2,3,4,9,33,55,44,11,[],[7,8]]\n",
    "n=l.copy()\n",
    "print(n)"
   ]
  },
  {
   "cell_type": "code",
   "execution_count": 24,
   "id": "f00b3188",
   "metadata": {},
   "outputs": [
    {
     "name": "stdout",
     "output_type": "stream",
     "text": [
      "Enter the number you want to count : 1\n",
      "Occurances of  1  in list is :  2\n"
     ]
    }
   ],
   "source": [
    "# 11.\tWrite a Python program to Count occurrences of an element in a list?\n",
    "\n",
    "l=[1,2,3,4,9,33,55,44,11,1]\n",
    "n=int(input(\"Enter the number you want to count : \"))\n",
    "print(\"Occurances of \",n,\" in list is : \",l.count(n))"
   ]
  },
  {
   "cell_type": "code",
   "execution_count": null,
   "id": "93712e99",
   "metadata": {},
   "outputs": [],
   "source": []
  }
 ],
 "metadata": {
  "kernelspec": {
   "display_name": "Python 3 (ipykernel)",
   "language": "python",
   "name": "python3"
  },
  "language_info": {
   "codemirror_mode": {
    "name": "ipython",
    "version": 3
   },
   "file_extension": ".py",
   "mimetype": "text/x-python",
   "name": "python",
   "nbconvert_exporter": "python",
   "pygments_lexer": "ipython3",
   "version": "3.9.7"
  }
 },
 "nbformat": 4,
 "nbformat_minor": 5
}
