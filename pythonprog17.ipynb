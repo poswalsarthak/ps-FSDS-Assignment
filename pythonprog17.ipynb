{
 "cells": [
  {
   "cell_type": "markdown",
   "id": "ef7a5692",
   "metadata": {},
   "source": [
    "Question1. Create a function that takes three arguments a, b, c and returns the sum of the numbers that are evenly divided by c from the range a, b inclusive."
   ]
  },
  {
   "cell_type": "code",
   "execution_count": 7,
   "id": "463df6b4",
   "metadata": {},
   "outputs": [
    {
     "name": "stdout",
     "output_type": "stream",
     "text": [
      "Enter first no. : 2\n",
      "Enter second no. : 35\n",
      "Enter third no. : 89\n",
      "0\n"
     ]
    }
   ],
   "source": [
    "def fun(a,b,c):\n",
    "    sum=0\n",
    "\n",
    "    if c<b:\n",
    "        for i in range(a,b+1):\n",
    "            if i%c==0:\n",
    "                sum+=i\n",
    "        return sum\n",
    "    else : return sum\n",
    "\n",
    "a=int(input(\"Enter first no. : \"))\n",
    "b=int(input(\"Enter second no. : \"))\n",
    "c=int(input(\"Enter third no. : \"))\n",
    "result=fun(a,b,c)\n",
    "print(result)\n"
   ]
  },
  {
   "cell_type": "code",
   "execution_count": null,
   "id": "abbc7303",
   "metadata": {},
   "outputs": [],
   "source": []
  },
  {
   "cell_type": "markdown",
   "id": "1f4a0369",
   "metadata": {},
   "source": [
    "Question2. Create a function that returns True if a given inequality expression is correct and False otherwise"
   ]
  },
  {
   "cell_type": "code",
   "execution_count": 16,
   "id": "58ef303e",
   "metadata": {},
   "outputs": [
    {
     "name": "stdout",
     "output_type": "stream",
     "text": [
      "True\n",
      "False\n",
      "True\n"
     ]
    }
   ],
   "source": [
    "def correct_signs(s):\n",
    "    if eval(s):print(True)\n",
    "    else:print(False)\n",
    "\n",
    "correct_signs(\"3 < 7 < 11\")    \n",
    "correct_signs(\"13 > 44 > 33 > 1\")\n",
    "correct_signs(\"1 < 2 < 6 < 9 > 3\")"
   ]
  },
  {
   "cell_type": "code",
   "execution_count": 14,
   "id": "cc64e220",
   "metadata": {},
   "outputs": [],
   "source": []
  },
  {
   "cell_type": "markdown",
   "id": "fc8a7f77",
   "metadata": {},
   "source": [
    "Question3. Create a function that replaces all the vowels in a string with a specified character."
   ]
  },
  {
   "cell_type": "code",
   "execution_count": 27,
   "id": "1835ed06",
   "metadata": {},
   "outputs": [
    {
     "name": "stdout",
     "output_type": "stream",
     "text": [
      "th# ##rdv#rk\n",
      "m?nn?? m??s?\n",
      "sh*k*sp**r*\n"
     ]
    }
   ],
   "source": [
    "def replace_vowels(s,char_to_replacewith):\n",
    "    vowel='aeiouAEIOU'\n",
    "    new_string=''\n",
    "    for i in s:\n",
    "        if i not in vowel:\n",
    "            new_string+=i\n",
    "        else: \n",
    "            new_string+=char_to_replacewith\n",
    "    return new_string\n",
    "\n",
    "print(replace_vowels(\"the aardvark\", \"#\"))\n",
    "print(replace_vowels(\"minnie mouse\", \"?\"))\n",
    "print(replace_vowels(\"shakespeare\", \"*\"))\n",
    "\n"
   ]
  },
  {
   "cell_type": "code",
   "execution_count": null,
   "id": "6b1ef982",
   "metadata": {},
   "outputs": [],
   "source": []
  },
  {
   "cell_type": "markdown",
   "id": "e81caf6c",
   "metadata": {},
   "source": [
    "Question4. Write a function that calculates the factorial of a number recursively."
   ]
  },
  {
   "cell_type": "code",
   "execution_count": 1,
   "id": "80077e0f",
   "metadata": {},
   "outputs": [
    {
     "name": "stdout",
     "output_type": "stream",
     "text": [
      "Enter the no. to calculate factorial : 5\n",
      "120\n"
     ]
    }
   ],
   "source": [
    "def fact(n):\n",
    "    if n==1:return 1\n",
    "    else:return n*fact(n-1)\n",
    "n=int(input(\"Enter the no. to calculate factorial : \"))\n",
    "result=fact(n)\n",
    "print(result)"
   ]
  },
  {
   "cell_type": "code",
   "execution_count": null,
   "id": "861c31a9",
   "metadata": {},
   "outputs": [],
   "source": []
  },
  {
   "cell_type": "markdown",
   "id": "fca917ce",
   "metadata": {},
   "source": [
    "Question 5\n",
    "Hamming distance is the number of characters that differ between two strings.\n",
    "To illustrate:\n",
    "String1: \"abcbba\"\n",
    "String2: \"abcbda\"\n",
    "\n",
    "Hamming Distance: 1 - \"b\" vs. \"d\" is the only difference.\n",
    "Create a function that computes the hamming distance between two strings.\n"
   ]
  },
  {
   "cell_type": "code",
   "execution_count": 8,
   "id": "a67e7880",
   "metadata": {},
   "outputs": [
    {
     "data": {
      "text/plain": [
       "2"
      ]
     },
     "execution_count": 8,
     "metadata": {},
     "output_type": "execute_result"
    }
   ],
   "source": [
    "def hamming_distance(s1,s2):\n",
    "    diff=0\n",
    "    for i in range(len(s1)-1):\n",
    "        if s1[i] != s2[i]:\n",
    "            diff+=1\n",
    "    return diff\n",
    "\n",
    "hamming_distance(\"sorong\", \"strung\")"
   ]
  },
  {
   "cell_type": "code",
   "execution_count": null,
   "id": "17bdbc01",
   "metadata": {},
   "outputs": [],
   "source": []
  }
 ],
 "metadata": {
  "kernelspec": {
   "display_name": "Python 3 (ipykernel)",
   "language": "python",
   "name": "python3"
  },
  "language_info": {
   "codemirror_mode": {
    "name": "ipython",
    "version": 3
   },
   "file_extension": ".py",
   "mimetype": "text/x-python",
   "name": "python",
   "nbconvert_exporter": "python",
   "pygments_lexer": "ipython3",
   "version": "3.9.12"
  }
 },
 "nbformat": 4,
 "nbformat_minor": 5
}
