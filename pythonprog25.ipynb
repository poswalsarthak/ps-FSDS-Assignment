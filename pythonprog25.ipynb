{
 "cells": [
  {
   "cell_type": "markdown",
   "id": "6c6cd173",
   "metadata": {},
   "source": [
    "Question1\n",
    "\n",
    "Create a function that takes three integer arguments (a, b, c) and returns the amount of integers which are of equal value.\n"
   ]
  },
  {
   "cell_type": "code",
   "execution_count": 4,
   "id": "25690184",
   "metadata": {},
   "outputs": [
    {
     "data": {
      "text/plain": [
       "3"
      ]
     },
     "execution_count": 4,
     "metadata": {},
     "output_type": "execute_result"
    }
   ],
   "source": [
    "def equal(a,b,c):\n",
    "    l=[]\n",
    "    l.append(a)\n",
    "    l.append(b)\n",
    "    l.append(c)\n",
    "    for i in l:\n",
    "        if l.count(i)>1 : return l.count(i)\n",
    "        else : return 0\n",
    "    \n",
    "equal(1, 1, 1)\n",
    "    "
   ]
  },
  {
   "cell_type": "code",
   "execution_count": null,
   "id": "2de25f15",
   "metadata": {},
   "outputs": [],
   "source": []
  },
  {
   "cell_type": "markdown",
   "id": "0a02cb7e",
   "metadata": {},
   "source": [
    "Question2\n",
    "\n",
    "Write a function that converts a dictionary into a list of keys-values tuples.\n"
   ]
  },
  {
   "cell_type": "code",
   "execution_count": 7,
   "id": "1ee56503",
   "metadata": {},
   "outputs": [
    {
     "data": {
      "text/plain": [
       "['dislikes', 'followers', 'likes']"
      ]
     },
     "execution_count": 7,
     "metadata": {},
     "output_type": "execute_result"
    }
   ],
   "source": [
    "def dict_to_list(d):\n",
    "    return list(sorted(d))\n",
    "#sorted method returns a new list, by default it sort acc to key.\n",
    "\n",
    "\n",
    "dict_to_list({\n",
    "  \"likes\": 2,\n",
    "  \"dislikes\": 3,\n",
    "  \"followers\": 10\n",
    "})\n"
   ]
  },
  {
   "cell_type": "code",
   "execution_count": null,
   "id": "4edc9913",
   "metadata": {},
   "outputs": [],
   "source": []
  },
  {
   "cell_type": "code",
   "execution_count": null,
   "id": "c3b4c0eb",
   "metadata": {},
   "outputs": [],
   "source": []
  },
  {
   "cell_type": "markdown",
   "id": "cc056bf1",
   "metadata": {},
   "source": [
    "Question3\n",
    "Write a function that creates a dictionary with each (key, value) pair being the (lower case, upper case) versions of a letter, respectively.\n"
   ]
  },
  {
   "cell_type": "code",
   "execution_count": 10,
   "id": "c8357e60",
   "metadata": {},
   "outputs": [
    {
     "data": {
      "text/plain": [
       "{'a': 'A', 'b': 'B', 'c': 'C'}"
      ]
     },
     "execution_count": 10,
     "metadata": {},
     "output_type": "execute_result"
    }
   ],
   "source": [
    "def fun_d(l):\n",
    "    d={}\n",
    "    for i in l:\n",
    "        d.update({i:i.upper()})\n",
    "    return d\n",
    "\n",
    "fun_d(['a','b','c'])"
   ]
  },
  {
   "cell_type": "code",
   "execution_count": null,
   "id": "7c5762b6",
   "metadata": {},
   "outputs": [],
   "source": []
  },
  {
   "cell_type": "markdown",
   "id": "53095140",
   "metadata": {},
   "source": [
    "Question4\n",
    "Write a function, that replaces all vowels in a string with a specified vowel.\n"
   ]
  },
  {
   "cell_type": "code",
   "execution_count": 15,
   "id": "bc043ac0",
   "metadata": {},
   "outputs": [
    {
     "data": {
      "text/plain": [
       "'upples und bununus'"
      ]
     },
     "execution_count": 15,
     "metadata": {},
     "output_type": "execute_result"
    }
   ],
   "source": [
    "def vow_replace(s,vowel):\n",
    "    vow='aeiouAEIOU'\n",
    "    new_string=''\n",
    "    for i in s:\n",
    "        if i in vow:\n",
    "            new_string=s.replace(i,vowel)\n",
    "    return new_string\n",
    "\n",
    "vow_replace(\"apples and bananas\", \"u\")"
   ]
  },
  {
   "cell_type": "code",
   "execution_count": null,
   "id": "1f1c7f1d",
   "metadata": {},
   "outputs": [],
   "source": [
    "\n"
   ]
  },
  {
   "cell_type": "markdown",
   "id": "6af90ef8",
   "metadata": {},
   "source": [
    "Question5\n",
    "Create a function that takes a string as input and capitalizes a letter if its ASCII code is even and returns its lower case version if its ASCII code is odd.\n"
   ]
  },
  {
   "cell_type": "code",
   "execution_count": 16,
   "id": "9f797ce5",
   "metadata": {},
   "outputs": [
    {
     "data": {
      "text/plain": [
       "'To Be oR NoT To Be!'"
      ]
     },
     "execution_count": 16,
     "metadata": {},
     "output_type": "execute_result"
    }
   ],
   "source": [
    "def ascii_capitalize(s):\n",
    "    new_str=''\n",
    "    for i in s:\n",
    "        if ord(i)%2==0 : new_str+=i.upper()\n",
    "        else : new_str+=i.lower()\n",
    "    return new_str\n",
    "\n",
    "ascii_capitalize(\"to be or not to be!\") "
   ]
  },
  {
   "cell_type": "code",
   "execution_count": null,
   "id": "1223ab03",
   "metadata": {},
   "outputs": [],
   "source": []
  }
 ],
 "metadata": {
  "kernelspec": {
   "display_name": "Python 3 (ipykernel)",
   "language": "python",
   "name": "python3"
  },
  "language_info": {
   "codemirror_mode": {
    "name": "ipython",
    "version": 3
   },
   "file_extension": ".py",
   "mimetype": "text/x-python",
   "name": "python",
   "nbconvert_exporter": "python",
   "pygments_lexer": "ipython3",
   "version": "3.9.12"
  }
 },
 "nbformat": 4,
 "nbformat_minor": 5
}
