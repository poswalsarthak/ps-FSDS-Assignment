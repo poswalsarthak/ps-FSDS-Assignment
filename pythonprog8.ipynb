{
 "cells": [
  {
   "cell_type": "code",
   "execution_count": 8,
   "id": "f97d5fc9",
   "metadata": {},
   "outputs": [
    {
     "name": "stdout",
     "output_type": "stream",
     "text": [
      "2\n",
      "[[2, 4], [6, 8]]\n"
     ]
    }
   ],
   "source": [
    "# 1.\tWrite a Python Program to Add Two Matrices?\n",
    "m1=[[1,2],[3,4]]\n",
    "m2=[[1,2],[3,4]]\n",
    "result=[[0,0],[0,0]]\n",
    "\n",
    "for i in range(len(m1)):\n",
    "    for j in range(len(m1[i])):\n",
    "        result[i][j]=m1[i][j]+m2[i][j]\n",
    "        \n",
    "print(result)"
   ]
  },
  {
   "cell_type": "code",
   "execution_count": 27,
   "id": "0b704885",
   "metadata": {},
   "outputs": [
    {
     "name": "stdout",
     "output_type": "stream",
     "text": [
      "[[7, 10], [15, 22]]\n"
     ]
    }
   ],
   "source": [
    "# 2.\tWrite a Python Program to Multiply Two Matrices?\n",
    "\n",
    "m1=[[1,2],\n",
    "    [3,4]]\n",
    "m2=[[1,2],\n",
    "    [3,4]]\n",
    "result=[[0 for x in range(len(m1))] for y in range(len(m2[0]))] \n",
    "if len(m1[0])==len(m2):\n",
    "    for i in range(len(m1)):\n",
    "        for j in range(len(m2[0])):\n",
    "            for k in range(len(m2)):\n",
    "                result[i][j]+=m1[i][k]*m2[k][j]\n",
    "else:\n",
    "    print(\"Row of matrice 1 is not equal to column of matrice 2\")\n",
    "    \n",
    "print(result)\n"
   ]
  },
  {
   "cell_type": "code",
   "execution_count": 29,
   "id": "d0c453c3",
   "metadata": {},
   "outputs": [
    {
     "name": "stdout",
     "output_type": "stream",
     "text": [
      "[[1, 3, 5], [2, 4, 6]]\n"
     ]
    }
   ],
   "source": [
    "# 3.\tWrite a Python Program to Transpose a Matrix?\n",
    "\n",
    "m=[[1,2],\n",
    "    [3,4]\n",
    "  ,[5,6]]\n",
    "r=[[0 for x in range(len(m))] for y in range(len(m[0]))] \n",
    "for i in range(len(m[0])):\n",
    "    for j in range(len(m)):\n",
    "            r[i][j]=m[j][i]\n",
    "print(r)"
   ]
  },
  {
   "cell_type": "code",
   "execution_count": 43,
   "id": "680f07c9",
   "metadata": {},
   "outputs": [
    {
     "name": "stdout",
     "output_type": "stream",
     "text": [
      "<class 'list'>\n",
      "a\n",
      "['a', 'alphabetic', 'in', 'order', 'program', 'python', 'sort', 'to', 'words', 'write']\n"
     ]
    }
   ],
   "source": [
    "# 4.\tWrite a Python Program to Sort Words in Alphabetic Order?\n",
    "s=\"Write a Python Program to Sort Words in Alphabetic Order\"\n",
    "words=s.split(\" \")\n",
    "for i in range(len(words)):\n",
    "    words[i]=words[i].lower()\n",
    "words.sort()\n",
    "print(words)"
   ]
  },
  {
   "cell_type": "code",
   "execution_count": 46,
   "id": "b44946ad",
   "metadata": {},
   "outputs": [
    {
     "name": "stdout",
     "output_type": "stream",
     "text": [
      "Hello  everyone  my name ist David\n"
     ]
    }
   ],
   "source": [
    "# 5.\tWrite a Python Program to Remove Punctuation From a String?\n",
    "punc = '''!()-[]{};:'\"\\,<>./?@#$%^&*_~'''\n",
    "s=\"Hello ! everyone: , my name is't David@\"\n",
    "s1=\"\"\n",
    "for i in s:\n",
    "    if i in punc:\n",
    "        s=s.replace(i,\"\")\n",
    "print(s)\n",
    "        \n"
   ]
  },
  {
   "cell_type": "code",
   "execution_count": null,
   "id": "fe0b2e6a",
   "metadata": {},
   "outputs": [],
   "source": []
  }
 ],
 "metadata": {
  "kernelspec": {
   "display_name": "Python 3 (ipykernel)",
   "language": "python",
   "name": "python3"
  },
  "language_info": {
   "codemirror_mode": {
    "name": "ipython",
    "version": 3
   },
   "file_extension": ".py",
   "mimetype": "text/x-python",
   "name": "python",
   "nbconvert_exporter": "python",
   "pygments_lexer": "ipython3",
   "version": "3.9.7"
  }
 },
 "nbformat": 4,
 "nbformat_minor": 5
}
