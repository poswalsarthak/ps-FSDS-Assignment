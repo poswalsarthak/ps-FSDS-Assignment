{
 "cells": [
  {
   "cell_type": "markdown",
   "id": "ef6221c6",
   "metadata": {},
   "source": [
    "1. Given a list of numbers, create a function that removes 25% from every number in the list except the smallest number, and adds the total amount removed to the smallest number.\n",
    "\n",
    "Examples\n",
    "\n",
    "show_the_love([4, 1, 4]) ➞ [3, 3, 3]\n",
    "\n",
    "show_the_love([16, 10, 8]) ➞ [12, 7.5, 14.5]\n",
    "\n",
    "show_the_love([2, 100]) ➞ [27, 75]\n"
   ]
  },
  {
   "cell_type": "code",
   "execution_count": 14,
   "id": "5bf0ac93",
   "metadata": {},
   "outputs": [
    {
     "name": "stdout",
     "output_type": "stream",
     "text": [
      "[3, 3, 3]\n",
      "[12, 7.5, 14.5]\n",
      "[27, 75]\n"
     ]
    }
   ],
   "source": [
    "def show_the_love(lst):\n",
    "    love=0\n",
    "    smallest_ele=min(lst)\n",
    "    for i in lst:\n",
    "        if i!=smallest_ele:\n",
    "            lst[lst.index(i)]-=int(0.25 * i) if (0.25*i).is_integer() else (0.25*i)\n",
    "            love+=int(0.25 * i) if (0.25*i).is_integer() else (0.25*i)\n",
    "    \n",
    "    lst[lst.index(smallest_ele)]+=love\n",
    "    return lst\n",
    "\n",
    "res=show_the_love([4,1,4])\n",
    "print(res)\n",
    "res=show_the_love([16, 10, 8])\n",
    "print(res)\n",
    "res=show_the_love([2, 100])\n",
    "print(res)\n",
    "    "
   ]
  },
  {
   "cell_type": "code",
   "execution_count": null,
   "id": "fb665e20",
   "metadata": {},
   "outputs": [],
   "source": []
  },
  {
   "cell_type": "markdown",
   "id": "fcaceda2",
   "metadata": {},
   "source": [
    "2. Create a function that takes in two words as input and returns a list of three elements, in the following order:\n",
    "\n",
    "   1.Shared letters between two words.\n",
    "   2.Letters unique to word 1.\n",
    "   3.Letters unique to word 2.\n",
    "\n",
    "Each element should have unique letters, and have each letter be alphabetically sorted.\n",
    "\n",
    "Examples\n",
    "\n",
    "letters(\"sharp\", \"soap\") ➞ [\"aps\", \"hr\", \"o\"]\n",
    "\n",
    "letters(\"board\", \"bored\") ➞ [\"bdor\", \"a\", \"e\"]\n",
    "\n",
    "letters(\"happiness\", \"envelope\") ➞ [\"enp\", \"ahis\", \"lov\"]\n",
    "\n",
    "letters(\"kerfuffle\", \"fluffy\") ➞ [\"flu\", \"ekr\", \"y\"]\n",
    " Even with multiple matching letters (e.g. 3 f's), there should \n",
    " only exist a single \"f\" in your first element.\n",
    "\n",
    "letters(\"match\", \"ham\") ➞ [\"ahm\", \"ct\", \"\"]\n",
    " \"ham\" does not contain any letters that are not found already \n",
    " in \"match\".\n"
   ]
  },
  {
   "cell_type": "code",
   "execution_count": 17,
   "id": "97a6a9a7",
   "metadata": {},
   "outputs": [
    {
     "data": {
      "text/plain": [
       "['nep', 'aish', 'lvo']"
      ]
     },
     "execution_count": 17,
     "metadata": {},
     "output_type": "execute_result"
    }
   ],
   "source": [
    "def letters(s1,s2):\n",
    "    s1=list(set(list(s1)))\n",
    "    s2=list(set(list(s2)))\n",
    "    shared=\"\"\n",
    "    unique_to_first=''\n",
    "    unique_to_second=''\n",
    "    for i in s1:\n",
    "        if i in s2: \n",
    "            shared+=i\n",
    "            s2.remove(i)\n",
    "        else :  unique_to_first+=i\n",
    "    return [shared,unique_to_first,\"\".join(s2)]\n",
    "        \n",
    "        \n",
    "letters(\"happiness\", \"envelope\")   "
   ]
  },
  {
   "cell_type": "code",
   "execution_count": null,
   "id": "b0a8da24",
   "metadata": {},
   "outputs": [],
   "source": []
  },
  {
   "cell_type": "markdown",
   "id": "cea43297",
   "metadata": {},
   "source": [
    "3. Write a function that pairs the first number in an array with the last, the second number with the second to last, etc.\n",
    "\n",
    "Examples\n",
    "\n",
    "pairs([1, 2, 3, 4, 5, 6, 7]) ➞ [[1, 7], [2, 6], [3, 5], [4, 4]]\n",
    "\n",
    "pairs([1, 2, 3, 4, 5, 6]) ➞ [[1, 6], [2, 5], [3, 4]]\n",
    "\n",
    "pairs([5, 9, 8, 1, 2]) ➞ [[5, 2], [9, 1], [8, 8]]\n",
    "\n",
    "pairs([]) ➞ []\n"
   ]
  },
  {
   "cell_type": "code",
   "execution_count": 27,
   "id": "25f483c3",
   "metadata": {},
   "outputs": [
    {
     "name": "stdout",
     "output_type": "stream",
     "text": [
      "[[1, 7], [2, 6], [3, 5], [4, 4]]\n",
      "[[1, 6], [2, 5], [3, 4]]\n",
      "[[5, 2], [9, 1], [8, 8]]\n",
      "[]\n"
     ]
    }
   ],
   "source": [
    "def pairs(lst):\n",
    "    res=[]\n",
    "    if len(lst)==0 : return lst\n",
    "    elif len(lst)%2==0 : iteration =len(lst)//2\n",
    "    else : iteration =len(lst)//2+1\n",
    "    for i in range(iteration):\n",
    "        res.append([lst[i],lst[-(i+1)]])\n",
    "    return res\n",
    "        \n",
    "res=pairs([1, 2, 3, 4, 5, 6, 7])\n",
    "print(res)\n",
    "res=pairs([1, 2, 3, 4, 5, 6])\n",
    "print(res)\n",
    "res=pairs([5, 9, 8, 1, 2])\n",
    "print(res)\n",
    "res=pairs([])\n",
    "print(res)"
   ]
  },
  {
   "cell_type": "code",
   "execution_count": null,
   "id": "5779778c",
   "metadata": {},
   "outputs": [],
   "source": []
  },
  {
   "cell_type": "markdown",
   "id": "d3bbc0be",
   "metadata": {},
   "source": [
    "4. Write a function that adds two numbers. The catch, however, is that the numbers will be strings.\n",
    "\n",
    "Examples\n",
    "\n",
    "add_str_nums(\"4\", \"5\") ➞ \"9\"\n",
    "\n",
    "add_str_nums(\"abcdefg\", \"3\") ➞ \"-1\"\n",
    "\n",
    "add_str_nums(\"1\", \"\") ➞ \"1\"\n",
    "\n",
    "add_str_nums(\"1874682736267235927359283579235789257\", \"32652983572985729\") ➞ \"1874682736267235927391936562808774986\"\n"
   ]
  },
  {
   "cell_type": "code",
   "execution_count": 36,
   "id": "69371cea",
   "metadata": {},
   "outputs": [
    {
     "name": "stdout",
     "output_type": "stream",
     "text": [
      "\" 9 \"\n",
      "\" -1 \"\n",
      "\" 1 \"\n"
     ]
    }
   ],
   "source": [
    "def add_str_nums(s1,s2):\n",
    "    if len(s1)==0 : s1='0'\n",
    "    elif len(s2)==0 : s2='0'\n",
    "        \n",
    "    if s1.isdigit() and s2.isdigit() :  return str(int(s1) + int(s2))\n",
    "    else : return -1\n",
    "    \n",
    "res=add_str_nums(\"4\", \"5\")\n",
    "print('\"',res,'\"')\n",
    "res=add_str_nums(\"abcdefg\", \"3\") \n",
    "print('\"',res,'\"')\n",
    "res=add_str_nums(\"1\", \"\")\n",
    "print('\"',res,'\"')"
   ]
  },
  {
   "cell_type": "code",
   "execution_count": null,
   "id": "dd0eb488",
   "metadata": {},
   "outputs": [],
   "source": []
  },
  {
   "cell_type": "markdown",
   "id": "ed5da977",
   "metadata": {},
   "source": [
    "5. lPaeesh le pemu mnxit ehess rtnisg! Oh, sorry, that was supposed to say: Please help me unmix these strings!\n",
    "\n",
    "Somehow my strings have all become mixed up; every pair of characters has been swapped. Help me undo this so I can understand my strings again.\n",
    "\n",
    "Examples\n",
    "\n",
    "unmix(\"123456\") ➞ \"214365\"\n",
    "\n",
    "unmix(\"hTsii  s aimex dpus rtni.g\") ➞ \"This is a mixed up string.\"\n",
    "\n",
    "unmix(\"badce\") ➞ \"abcde\"\n"
   ]
  },
  {
   "cell_type": "code",
   "execution_count": 51,
   "id": "ac35afc4",
   "metadata": {},
   "outputs": [
    {
     "name": "stdout",
     "output_type": "stream",
     "text": [
      "214365\n",
      "This is a mixed up string.\n",
      "abcde\n"
     ]
    }
   ],
   "source": [
    "def unmix(s):\n",
    "    output = ''\n",
    "    for ele in range(0,len(s)-1,2):\n",
    "        output += s[ele+1]+s[ele]\n",
    "        if (len(s)%2 != 0 and ele == len(s)//2 ):\n",
    "            output += s[-1]       \n",
    "    return(output)\n",
    "\n",
    "res=unmix(\"123456\")\n",
    "print(res)\n",
    "res=unmix(\"hTsii  s aimex dpus rtni.g\")\n",
    "print(res)\n",
    "res=unmix(\"badce\")\n",
    "print(res)"
   ]
  },
  {
   "cell_type": "code",
   "execution_count": null,
   "id": "5f5fb605",
   "metadata": {},
   "outputs": [],
   "source": []
  }
 ],
 "metadata": {
  "kernelspec": {
   "display_name": "Python 3 (ipykernel)",
   "language": "python",
   "name": "python3"
  },
  "language_info": {
   "codemirror_mode": {
    "name": "ipython",
    "version": 3
   },
   "file_extension": ".py",
   "mimetype": "text/x-python",
   "name": "python",
   "nbconvert_exporter": "python",
   "pygments_lexer": "ipython3",
   "version": "3.9.12"
  }
 },
 "nbformat": 4,
 "nbformat_minor": 5
}
