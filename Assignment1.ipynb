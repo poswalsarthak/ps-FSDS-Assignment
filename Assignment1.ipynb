{
 "cells": [
  {
   "cell_type": "raw",
   "id": "7aac3ce1",
   "metadata": {},
   "source": [
    "1. In the below elements which of them are values or an expression? eg:- values can be\n",
    "integer or string and expressions will be mathematical operators.\n",
    "*\n",
    "'hello'\n",
    "-87.8\n",
    "-\n",
    "/\n",
    "+\n",
    "6\n",
    "\n",
    "Sol:==>\n",
    "*  = expression\n",
    "\n",
    "'hello' = value\n",
    "\n",
    "-87.8 = value\n",
    "\n",
    "- = expression\n",
    "\n",
    "/ = expression\n",
    "\n",
    "+ = expression\n",
    "\n",
    "6 = value\n"
   ]
  },
  {
   "cell_type": "raw",
   "id": "3a34bf7b",
   "metadata": {},
   "source": [
    "2. What is the difference between string and variable?\n",
    "\n",
    "Sol:==> STRING :  A string is a sequence of characters enclosed in single quotes double quotes or triple quotes.String in python is an immutable data type that is once a value is assigned to the variable it cannot be changed later. A single character in python is a string of length 1.\n",
    "Ex. =>  Name = 'John'\n",
    "\n",
    "VARIABLE : A variable is like a container for storing data for processing. Every variable has a data type like list,tuple,string etc.\n",
    "Ex. =>  n = 4\n",
    "        f = 4.0\n",
    "\n"
   ]
  },
  {
   "cell_type": "raw",
   "id": "7611ce97",
   "metadata": {},
   "source": [
    "3. Describe three different data types.\n",
    "Sol: ==>\n",
    "(i)==> NUMERIC : In Python, numeric data type represent the data which has numeric value. Numeric value can be integer, floating number or even complex numbers. These values are defined as int, float and complex class in Python.\n",
    "Integers – This value is represented by int class. It contains positive or negative whole numbers (without fraction or decimal). In Python there is no limit to how long an integer value can be.\n",
    "Float – This value is represented by float class. It is a real number with floating point representation. It is specified by a decimal point. Optionally, the character e or E followed by a positive or negative integer may be appended to specify scientific notation.\n",
    "Complex Numbers – Complex number is represented by complex class. It is specified as (real part) + (imaginary part)j. For example – 2+3j\n",
    "\n",
    "(ii) ==>  SEQUENCE Type : In Python, sequence is the ordered collection of similar or different data types. Sequences allows to store multiple values in an organized and efficient fashion. There are several sequence types in Python –\n",
    "\n",
    "String\n",
    "List\n",
    "Tuple\n",
    "\n",
    "1) String : In Python, Strings are arrays of bytes representing Unicode characters. A string is a collection of one or more characters put in a single quote, double-quote or triple quote. In python there is no character data type, a character is a string of length one. It is represented by str class.\n",
    "ex: String1 = \"hello\"\n",
    "2) List : Lists are just like the arrays, declared in other languages which is a ordered collection of data. It is very flexible as the items in a list do not need to be of the same type.\n",
    "ex: List = ['hello'] \n",
    "3) Tuple : Just like list, tuple is also an ordered collection of Python objects. The only difference between tuple and list is that tuples are immutable i.e. tuples cannot be modified after it is created. It is represented by tuple class.\n",
    "ex: Tuple1 = ()\n",
    "\n",
    "(iii) ==> BOOLEAN : Data type with one of the two built-in values, True or False. Boolean objects that are equal to True are truthy (true), and those equal to False are falsy (false). But non-Boolean objects can be evaluated in Boolean context as well and determined to be true or false. It is denoted by the class bool.\n",
    "ex : a = True\n",
    "\n",
    "\n"
   ]
  },
  {
   "cell_type": "raw",
   "id": "d8d39146",
   "metadata": {},
   "source": [
    "4. What is an expression made up of? What do all expressions do?\n",
    "SOL: ==> An expression is a combination of values, variables, operators, and calls to functions. Expressions need to be evaluated.\n",
    "All the expressions are evaluated to a single value.\n",
    "For example, this is an expression: >>> 2 + 2. The 2s are integer values and the + is the mathematical operator. This expression evaluates down to the single integer value 4\n"
   ]
  },
  {
   "cell_type": "raw",
   "id": "48870aaf",
   "metadata": {},
   "source": [
    "5. This assignment statements, like spam = 10. What is the difference between an\n",
    "expression and a statement?\n",
    "Sol: ==> \n",
    "Expressions represent something, like a number, a string, or an instance of a class. Any value is an expression!\n",
    "\n",
    "Anything that does something is a statement. Any assignment to a variable or function call is a statement. Any value contained in that statement in an expression.\n",
    "\n",
    "spam = 10 , is a statement, while 10 is an expression."
   ]
  },
  {
   "cell_type": "raw",
   "id": "16badd8a",
   "metadata": {},
   "source": [
    "6. After running the following code, what does the variable bacon contain?\n",
    "bacon = 22\n",
    "bacon + 1\n",
    "\n",
    "Sol ==> 23\n"
   ]
  },
  {
   "cell_type": "raw",
   "id": "e031073c",
   "metadata": {},
   "source": [
    "7. What should the values of the following two terms be?\n",
    "'spam' + 'spamspam'\n",
    "'spam' * 3\n",
    "\n",
    "Sol ==>\n",
    "'spam' + 'spamspam' => 'spamspamspam'\n",
    "'spam' * 3 => 'spamspamspam'\n",
    "\n"
   ]
  },
  {
   "cell_type": "raw",
   "id": "e0957f16",
   "metadata": {},
   "source": [
    "8. Why is eggs a valid variable name while 100 is invalid?\n",
    "\n",
    "Sol ==> A variable name can be alphanumeric but cannot be only number. So eggs is a valid variable name but 100 is not."
   ]
  },
  {
   "cell_type": "raw",
   "id": "af37f49a",
   "metadata": {},
   "source": [
    "9. What three functions can be used to get the integer, floating-point number, or string\n",
    "version of a value?\n",
    "Sol ==> for integer int() function  will evaluate to the integer versions of the value passed to them.\n",
    "        for floating-point number float() function will evaluate to the floating-point versions of the value passed to them.\n",
    "        for string str() function will evaluate to the string versions of the value passed to them."
   ]
  },
  {
   "cell_type": "raw",
   "id": "5c718865",
   "metadata": {},
   "source": [
    "10. Why does this expression cause an error? How can you fix it?\n",
    "'I have eaten'+ 99 +'burritos.'\n",
    "\n",
    "Sol:==> There would be a TypeError since only a string can be concatenated with a string  and not an integer.\n",
    "        To fix it we can do typecasting in it.\n",
    "        'I have eaten ' + str(99) + ' burritos.' ....which will evaluate to .....'I have eaten 99 burritos.'\n",
    "        "
   ]
  }
 ],
 "metadata": {
  "kernelspec": {
   "display_name": "Python 3 (ipykernel)",
   "language": "python",
   "name": "python3"
  },
  "language_info": {
   "codemirror_mode": {
    "name": "ipython",
    "version": 3
   },
   "file_extension": ".py",
   "mimetype": "text/x-python",
   "name": "python",
   "nbconvert_exporter": "python",
   "pygments_lexer": "ipython3",
   "version": "3.9.7"
  }
 },
 "nbformat": 4,
 "nbformat_minor": 5
}
