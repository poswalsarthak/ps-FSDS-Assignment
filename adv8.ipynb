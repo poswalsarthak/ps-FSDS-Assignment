{
 "cells": [
  {
   "cell_type": "markdown",
   "id": "48c4c49e",
   "metadata": {},
   "source": [
    "1. Given a sentence as txt, return True if any two adjacent words have this property: One word ends with a vowel, while the word immediately after begins with a vowel (a e i o u)."
   ]
  },
  {
   "cell_type": "code",
   "execution_count": 22,
   "id": "64852b9e",
   "metadata": {},
   "outputs": [
    {
     "data": {
      "text/plain": [
       "False"
      ]
     },
     "execution_count": 22,
     "metadata": {},
     "output_type": "execute_result"
    }
   ],
   "source": [
    "def vowel_links(txt):\n",
    "    txt=txt.lower()\n",
    "    vlist=['a','e','i','o','u']\n",
    "    lst=txt.split(\" \")\n",
    "    for i in range(len(lst)-1) :\n",
    "        if (lst[i][-1] in vlist) and (lst[i+1][0]) in vlist :\n",
    "            return True\n",
    "    else : return False\n",
    "vowel_links(\"a sudden applause\") "
   ]
  },
  {
   "cell_type": "code",
   "execution_count": null,
   "id": "1a3ba1d8",
   "metadata": {},
   "outputs": [],
   "source": []
  },
  {
   "cell_type": "markdown",
   "id": "824ee3bd",
   "metadata": {},
   "source": [
    "2. You are given three inputs: a string, one letter, and a second letter.\n",
    "\n",
    "Write a function that returns True if every instance of the first letter occurs before every instance of the second letter.\n"
   ]
  },
  {
   "cell_type": "code",
   "execution_count": 26,
   "id": "61692599",
   "metadata": {},
   "outputs": [
    {
     "data": {
      "text/plain": [
       "True"
      ]
     },
     "execution_count": 26,
     "metadata": {},
     "output_type": "execute_result"
    }
   ],
   "source": [
    "def first_before_second(string,first_letter,second_letter):\n",
    "    str_list=list(string)\n",
    "    for i in str_list:\n",
    "        if i==second_letter : \n",
    "            for j in range(str_list.index(i),len(str_list)-1):\n",
    "                if str_list[j] == first_letter : \n",
    "                    return False\n",
    "            return True\n",
    "    \n",
    "first_before_second(\"knaves knew about waterfalls\", \"k\", \"w\") "
   ]
  },
  {
   "cell_type": "code",
   "execution_count": null,
   "id": "7b40616d",
   "metadata": {},
   "outputs": [],
   "source": []
  },
  {
   "cell_type": "markdown",
   "id": "c39bc7f7",
   "metadata": {},
   "source": [
    "3. Create a function that returns the characters from a list or string r on odd or even positions, depending on the specifier s. The specifier will be \"odd\" for items on odd positions (1, 3, 5, ...) and \"even\" for items on even positions (2, 4, 6, ...)."
   ]
  },
  {
   "cell_type": "code",
   "execution_count": 37,
   "id": "bbe0b8a4",
   "metadata": {},
   "outputs": [
    {
     "data": {
      "text/plain": [
       "[4, 8]"
      ]
     },
     "execution_count": 37,
     "metadata": {},
     "output_type": "execute_result"
    }
   ],
   "source": [
    "def char_at_pos(e,specifier):\n",
    "    if type(e)!=list : temp=list(e)\n",
    "    res=[]\n",
    "    if specifier == 'odd':\n",
    "        for i in e:\n",
    "            if (1+e.index(i))%2!=0 : res.append(i)\n",
    "        return res if type(e)==list else \"\".join(res)\n",
    "    else : \n",
    "        for i in e:\n",
    "            if (1+e.index(i))%2==0 : res.append(i)\n",
    "        return res if type(e)==list else \"\".join(res)\n",
    "    \n",
    "char_at_pos([2, 4, 6, 8, 10], \"even\") "
   ]
  },
  {
   "cell_type": "code",
   "execution_count": null,
   "id": "f4052e1b",
   "metadata": {},
   "outputs": [],
   "source": []
  },
  {
   "cell_type": "markdown",
   "id": "d9dfa8a7",
   "metadata": {},
   "source": [
    "4. Write a function that returns the greatest common divisor of all list elements. If the greatest common divisor is 1, return 1."
   ]
  },
  {
   "cell_type": "code",
   "execution_count": 38,
   "id": "f5847e3b",
   "metadata": {},
   "outputs": [
    {
     "name": "stdout",
     "output_type": "stream",
     "text": [
      "10\n"
     ]
    }
   ],
   "source": [
    "def GCD(lst):\n",
    "    gcd=1\n",
    "    for i in range(1,(min(lst)+1)):\n",
    "        for ele in lst:\n",
    "            if ele % i!=0: break\n",
    "        else : gcd=i\n",
    "    return gcd\n",
    "\n",
    "res=GCD([10, 20, 40])\n",
    "print(res)"
   ]
  },
  {
   "cell_type": "code",
   "execution_count": null,
   "id": "08e5da74",
   "metadata": {},
   "outputs": [],
   "source": []
  },
  {
   "cell_type": "markdown",
   "id": "df07e6e1",
   "metadata": {},
   "source": [
    "5. A number/string is a palindrome if the digits/characters are the same when read both forward and backward. Examples include \"racecar\" and 12321. Given a positive number n, check if n or the binary representation of n is palindromic. Return the following:\n",
    "\n",
    "- \"Decimal only.\" if only n is a palindrome.\n",
    "- \"Binary only.\" if only the binary representation of n is a palindrome.\n",
    "- \"Decimal and binary.\" if both are palindromes.\n",
    "- \"Neither!\" if neither are palindromes.\n",
    "\n"
   ]
  },
  {
   "cell_type": "code",
   "execution_count": 44,
   "id": "87cbb001",
   "metadata": {},
   "outputs": [
    {
     "data": {
      "text/plain": [
       "'Decimal and binary.'"
      ]
     },
     "execution_count": 44,
     "metadata": {},
     "output_type": "execute_result"
    }
   ],
   "source": [
    "def palindrome(n):\n",
    "    temp=n\n",
    "    binary=''\n",
    "    while temp>0 :\n",
    "        binary+=str(temp%2)\n",
    "        temp//=2\n",
    "    binary=binary[::-1]\n",
    "    \n",
    "    if binary == binary[::-1] and str(n)==str(n)[::-1] : return \"Decimal and binary.\"\n",
    "    elif binary == binary[::-1] and str(n)!=str(n)[::-1] : return \"Binary only.\"\n",
    "    elif binary != binary[::-1] and str(n)==str(n)[::-1] : return \"Decimal only.\"\n",
    "    else : return \"Neither!\"\n",
    "    \n",
    "palindrome(313) \n",
    "        \n",
    "        "
   ]
  },
  {
   "cell_type": "code",
   "execution_count": null,
   "id": "93b97ac9",
   "metadata": {},
   "outputs": [],
   "source": []
  }
 ],
 "metadata": {
  "kernelspec": {
   "display_name": "Python 3 (ipykernel)",
   "language": "python",
   "name": "python3"
  },
  "language_info": {
   "codemirror_mode": {
    "name": "ipython",
    "version": 3
   },
   "file_extension": ".py",
   "mimetype": "text/x-python",
   "name": "python",
   "nbconvert_exporter": "python",
   "pygments_lexer": "ipython3",
   "version": "3.9.12"
  }
 },
 "nbformat": 4,
 "nbformat_minor": 5
}
